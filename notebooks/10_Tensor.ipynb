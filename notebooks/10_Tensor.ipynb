{
 "cells": [
  {
   "cell_type": "markdown",
   "metadata": {},
   "source": [
    "# Open3D Guide: 10. Tensor"
   ]
  },
  {
   "cell_type": "markdown",
   "metadata": {},
   "source": [
    "Source: [https://www.open3d.org/docs/latest/tutorial/Basic/tensor.html](https://www.open3d.org/docs/latest/tutorial/Basic/tensor.html).\n",
    "\n",
    "> Tensor is a “view” of a data Blob with shape, stride, and a data pointer. It is a multidimensional and homogeneous matrix containing elements of single data type. It is used in Open3D to perform numerical operations. It supports GPU operations as well."
   ]
  },
  {
   "cell_type": "markdown",
   "metadata": {},
   "source": [
    "Summary of contents:\n",
    "\n",
    "- Tensor creation\n",
    "- Properties of a tensor\n",
    "- Copy & device transfer\n",
    "- Data types\n",
    "- Type casting\n",
    "- Numpy I/O with direct memory map\n",
    "- PyTorch I/O with DLPack memory map\n",
    "- Binary element-wise operations\n",
    "- Unary element-wise operations\n",
    "- Reduction\n",
    "- Slicing, indexing, getitem, and setitem\n",
    "- Advanced indexing\n",
    "- Logical operations\n",
    "- Comparision Operations\n",
    "- Nonzero operations"
   ]
  },
  {
   "cell_type": "code",
   "execution_count": 1,
   "metadata": {},
   "outputs": [],
   "source": [
    "import sys\n",
    "import os\n",
    "import copy\n",
    "\n",
    "# Add the directory containing 'examples' to the Python path\n",
    "notebook_directory = os.getcwd()\n",
    "parent_directory = os.path.dirname(notebook_directory)  # Parent directory\n",
    "sys.path.append(parent_directory)"
   ]
  },
  {
   "cell_type": "code",
   "execution_count": 2,
   "metadata": {},
   "outputs": [
    {
     "name": "stdout",
     "output_type": "stream",
     "text": [
      "Jupyter environment detected. Enabling Open3D WebVisualizer.\n",
      "[Open3D INFO] WebRTC GUI backend enabled.\n",
      "[Open3D INFO] WebRTCWindowSystem: HTTP handshake server disabled.\n"
     ]
    }
   ],
   "source": [
    "import open3d as o3d\n",
    "import open3d.core as o3c\n",
    "from examples import open3d_example as o3dex\n",
    "import numpy as np\n",
    "import matplotlib.pyplot as plt"
   ]
  },
  {
   "cell_type": "markdown",
   "metadata": {},
   "source": [
    "## Tensor creation"
   ]
  },
  {
   "cell_type": "code",
   "execution_count": 5,
   "metadata": {},
   "outputs": [
    {
     "name": "stdout",
     "output_type": "stream",
     "text": [
      "Created from list:\n",
      "[0 1 2]\n",
      "Tensor[shape={3}, stride={1}, Int32, CPU:0, 0x2817319c300]\n",
      "\n",
      "Created from numpy array:\n",
      "[0 1 2]\n",
      "Tensor[shape={3}, stride={1}, Int32, CPU:0, 0x2817319c900]\n",
      "\n",
      "Default dtype and device:\n",
      "[0.0 1.0 2.0]\n",
      "Tensor[shape={3}, stride={1}, Float64, CPU:0, 0x2817319c480]\n",
      "\n",
      "Specified data type:\n",
      "[0.0 1.0 2.0]\n",
      "Tensor[shape={3}, stride={1}, Float64, CPU:0, 0x2817319c400]\n",
      "\n",
      "Specified device:\n",
      "[0 1 2]\n",
      "Tensor[shape={3}, stride={1}, Int32, CPU:0, 0x2817319c840]\n"
     ]
    }
   ],
   "source": [
    "# Tensor from list.\n",
    "a = o3c.Tensor([0, 1, 2])\n",
    "print(\"Created from list:\\n{}\".format(a))\n",
    "\n",
    "# Tensor from Numpy.\n",
    "a = o3c.Tensor(np.array([0, 1, 2]))\n",
    "print(\"\\nCreated from numpy array:\\n{}\".format(a))\n",
    "\n",
    "# Dtype and inferred from list.\n",
    "a_float = o3c.Tensor([0.0, 1.0, 2.0])\n",
    "print(\"\\nDefault dtype and device:\\n{}\".format(a_float))\n",
    "\n",
    "# Specify dtype.\n",
    "a = o3c.Tensor(np.array([0, 1, 2]), dtype=o3c.Dtype.Float64)\n",
    "print(\"\\nSpecified data type:\\n{}\".format(a))\n",
    "\n",
    "# Specify device: CPU, CUDA\n",
    "#a = o3c.Tensor(np.array([0, 1, 2]), device=o3c.Device(\"CUDA:0\"))\n",
    "a = o3c.Tensor(np.array([0, 1, 2]), device=o3c.Device(\"CPU:0\"))\n",
    "print(\"\\nSpecified device:\\n{}\".format(a))"
   ]
  },
  {
   "cell_type": "code",
   "execution_count": 6,
   "metadata": {},
   "outputs": [
    {
     "name": "stdout",
     "output_type": "stream",
     "text": [
      "Source tensor:\n",
      "[11 2 3]\n",
      "Tensor[shape={3}, stride={1}, Int32, CPU:0, 0x2817319c220]\n",
      "\n",
      "Target tensor:\n",
      "[11 2 3]\n",
      "Tensor[shape={3}, stride={1}, Int32, CPU:0, 0x2817319c220]\n"
     ]
    }
   ],
   "source": [
    "# Shallow copy constructor\n",
    "# Shallow copy: the data_ptr will be copied but the memory it points to will not be copied\n",
    "vals = np.array([1, 2, 3])\n",
    "src = o3c.Tensor(vals)\n",
    "dst = src\n",
    "src[0] += 10\n",
    "\n",
    "# Changes in one will get reflected in other.\n",
    "print(\"Source tensor:\\n{}\".format(src))\n",
    "print(\"\\nTarget tensor:\\n{}\".format(dst))"
   ]
  },
  {
   "cell_type": "markdown",
   "metadata": {},
   "source": [
    "## Properties of a tensor"
   ]
  },
  {
   "cell_type": "code",
   "execution_count": 8,
   "metadata": {},
   "outputs": [
    {
     "name": "stdout",
     "output_type": "stream",
     "text": [
      "a.shape: SizeVector[2, 3, 4]\n",
      "a.strides: SizeVector[12, 4, 1]\n",
      "a.dtype: Float64\n",
      "a.device: CPU:0\n",
      "a.ndim: 3\n"
     ]
    }
   ],
   "source": [
    "vals = np.array((range(24))).reshape(2, 3, 4)\n",
    "a = o3c.Tensor(vals,\n",
    "               dtype=o3c.Dtype.Float64,\n",
    "               device=o3c.Device(\"CPU:0\"))\n",
    "print(f\"a.shape: {a.shape}\")\n",
    "print(f\"a.strides: {a.strides}\")\n",
    "print(f\"a.dtype: {a.dtype}\")\n",
    "print(f\"a.device: {a.device}\")\n",
    "print(f\"a.ndim: {a.ndim}\")"
   ]
  },
  {
   "cell_type": "markdown",
   "metadata": {},
   "source": [
    "## Copy & device transfer"
   ]
  },
  {
   "cell_type": "markdown",
   "metadata": {},
   "source": [
    "```python\n",
    "# Host -> Device.\n",
    "a_cpu = o3c.Tensor([0, 1, 2])\n",
    "a_gpu = a_cpu.cuda(0)\n",
    "print(a_gpu)\n",
    "\n",
    "# Device -> Host.\n",
    "a_gpu = o3c.Tensor([0, 1, 2], device=o3c.Device(\"CUDA:0\"))\n",
    "a_cpu = a_gpu.cpu()\n",
    "print(a_cpu)\n",
    "\n",
    "# Device -> another Device.\n",
    "a_gpu_0 = o3c.Tensor([0, 1, 2], device=o3c.Device(\"CUDA:0\"))\n",
    "a_gpu_1 = a_gpu_0.cuda(0)\n",
    "print(a_gpu_1)\n",
    "```"
   ]
  },
  {
   "cell_type": "markdown",
   "metadata": {},
   "source": [
    "## Data types"
   ]
  },
  {
   "cell_type": "markdown",
   "metadata": {},
   "source": [
    "![Tensor Data Types](../assets/tensor_data_types.png)"
   ]
  },
  {
   "cell_type": "markdown",
   "metadata": {},
   "source": [
    "## Type casting"
   ]
  },
  {
   "cell_type": "code",
   "execution_count": 10,
   "metadata": {},
   "outputs": [
    {
     "name": "stdout",
     "output_type": "stream",
     "text": [
      "[0.1 1.5 2.7]\n",
      "Tensor[shape={3}, stride={1}, Float64, CPU:0, 0x2817319c2c0]\n",
      "[0 1 2]\n",
      "Tensor[shape={3}, stride={1}, Int32, CPU:0, 0x2817319c6c0]\n"
     ]
    }
   ],
   "source": [
    "# E.g. float -> int\n",
    "a = o3c.Tensor([0.1, 1.5, 2.7])\n",
    "b = a.to(o3c.Dtype.Int32)\n",
    "print(a)\n",
    "print(b)"
   ]
  },
  {
   "cell_type": "code",
   "execution_count": 11,
   "metadata": {},
   "outputs": [
    {
     "name": "stdout",
     "output_type": "stream",
     "text": [
      "[1 2 3]\n",
      "Tensor[shape={3}, stride={1}, Int32, CPU:0, 0x2817319c1c0]\n",
      "[1.0 2.0 3.0]\n",
      "Tensor[shape={3}, stride={1}, Float32, CPU:0, 0x2817319c760]\n"
     ]
    }
   ],
   "source": [
    "# E.g. int -> float\n",
    "a = o3c.Tensor([1, 2, 3])\n",
    "b = a.to(o3c.Dtype.Float32)\n",
    "print(a)\n",
    "print(b)"
   ]
  },
  {
   "cell_type": "markdown",
   "metadata": {},
   "source": [
    "## Numpy I/O with direct memory map"
   ]
  },
  {
   "cell_type": "markdown",
   "metadata": {},
   "source": [
    "Tensors created by passing numpy array to the constructor (`o3c.Tensor(np.array(...)`) do not share memory with the numpy aray. To have shared memory, you can use `o3c.Tensor.from_numpy(...)` and `o3c.Tensor.numpy(...)`. Changes in either of them will get reflected in other."
   ]
  },
  {
   "cell_type": "code",
   "execution_count": 12,
   "metadata": {},
   "outputs": [
    {
     "name": "stdout",
     "output_type": "stream",
     "text": [
      "np_a: [1 1 1 1 1]\n",
      "o3_a: [1 1 1 1 1]\n",
      "Tensor[shape={5}, stride={1}, Int32, CPU:0, 0x2817319c7a0]\n",
      "\n",
      "np_a: [101   1   1   1   1]\n",
      "o3_a: [1 201 1 1 1]\n",
      "Tensor[shape={5}, stride={1}, Int32, CPU:0, 0x2817319c7a0]\n"
     ]
    }
   ],
   "source": [
    "# Using constructor\n",
    "np_a = np.ones((5,), dtype=np.int32)\n",
    "o3_a = o3c.Tensor(np_a)\n",
    "print(f\"np_a: {np_a}\")\n",
    "print(f\"o3_a: {o3_a}\")\n",
    "print(\"\")\n",
    "\n",
    "# Changes to numpy array will not reflect as memory is not shared\n",
    "np_a[0] += 100\n",
    "o3_a[1] += 200\n",
    "print(f\"np_a: {np_a}\")\n",
    "print(f\"o3_a: {o3_a}\")"
   ]
  },
  {
   "cell_type": "code",
   "execution_count": 13,
   "metadata": {},
   "outputs": [
    {
     "name": "stdout",
     "output_type": "stream",
     "text": [
      "np_a: [101 201   1   1   1]\n",
      "o3_a: [101 201 1 1 1]\n",
      "Tensor[shape={5}, stride={1}, Int32, CPU:0, 0x2817319c200]\n"
     ]
    }
   ],
   "source": [
    "# From numpy.\n",
    "np_a = np.ones((5,), dtype=np.int32)\n",
    "o3_a = o3c.Tensor.from_numpy(np_a)\n",
    "\n",
    "# Changes to numpy array reflects on open3d Tensor and vice versa.\n",
    "np_a[0] += 100\n",
    "o3_a[1] += 200\n",
    "print(f\"np_a: {np_a}\")\n",
    "print(f\"o3_a: {o3_a}\")"
   ]
  },
  {
   "cell_type": "code",
   "execution_count": 15,
   "metadata": {},
   "outputs": [
    {
     "name": "stdout",
     "output_type": "stream",
     "text": [
      "np_a: [101 201   1   1   1]\n",
      "o3_a: [101 201 1 1 1]\n",
      "Tensor[shape={5}, stride={1}, Int32, CPU:0, 0x2817319c6e0]\n",
      "\n",
      "o3_a.cpu().numpy(): [1 1 1 1 1]\n"
     ]
    }
   ],
   "source": [
    "# To numpy.\n",
    "o3_a = o3c.Tensor([1, 1, 1, 1, 1], dtype=o3c.Dtype.Int32)\n",
    "np_a = o3_a.numpy()\n",
    "\n",
    "# Changes to numpy array reflects on open3d Tensor and vice versa.\n",
    "np_a[0] += 100\n",
    "o3_a[1] += 200\n",
    "print(f\"np_a: {np_a}\")\n",
    "print(f\"o3_a: {o3_a}\")\n",
    "\n",
    "# For CUDA Tensor, call cpu() before calling numpy().\n",
    "o3_a = o3c.Tensor([1, 1, 1, 1, 1], device=o3c.Device(\"CPU:0\"))\n",
    "print(f\"\\no3_a.cpu().numpy(): {o3_a.cpu().numpy()}\")"
   ]
  },
  {
   "cell_type": "markdown",
   "metadata": {},
   "source": [
    "## PyTorch I/O with DLPack memory map"
   ]
  },
  {
   "cell_type": "markdown",
   "metadata": {},
   "source": [
    "We can convert tensors from/to [DLManagedTensor](https://dmlc.github.io/dlpack/latest/index.html); from the official DLPack website:\n",
    "\n",
    "> In order for an ndarray system to interact with a variety of frameworks, a stable in-memory data structure is needed.\n",
    "> DLPack is one such data structure that allows exchange between major frameworks. It is developed with inputs from many deep learning system core developers. Highlights include:\n",
    ">\n",
    "> - Minimum and stable: simple header\n",
    "> - Designed for cross hardware: CPU, CUDA, OpenCL, Vulkan, Metal, VPI, ROCm, WebGPU, Hexagon\n",
    "> - Already a standard with wide community adoption and support:\n",
    ">   - NumPy\n",
    ">   - CuPy\n",
    ">   - PyTorch\n",
    ">   - Tensorflow\n",
    ">   - MXNet\n",
    ">   - TVM\n",
    ">   - mpi4py\n",
    "> - Clean C ABI compatible.\n",
    ">   - Means you can create and access it from any language.\n",
    ">   - It is also essential for building JIT and AOT compilers to support these data types."
   ]
  },
  {
   "cell_type": "code",
   "execution_count": 17,
   "metadata": {},
   "outputs": [
    {
     "name": "stdout",
     "output_type": "stream",
     "text": [
      "th_a: tensor([1., 1., 1., 1., 1.])\n",
      "o3_a: [1.0 1.0 1.0 1.0 1.0]\n",
      "Tensor[shape={5}, stride={1}, Float32, CPU:0, 0x42044801180]\n",
      "\n",
      "th_a: tensor([100., 200.,   1.,   1.,   1.])\n",
      "o3_a: [100.0 200.0 1.0 1.0 1.0]\n",
      "Tensor[shape={5}, stride={1}, Float32, CPU:0, 0x42044801180]\n"
     ]
    }
   ],
   "source": [
    "import torch\n",
    "import torch.utils.dlpack\n",
    "\n",
    "# From PyTorch\n",
    "#th_a = torch.ones((5,)).cuda(0)\n",
    "th_a = torch.ones((5,)).cpu()\n",
    "o3_a = o3c.Tensor.from_dlpack(torch.utils.dlpack.to_dlpack(th_a))\n",
    "print(f\"th_a: {th_a}\")\n",
    "print(f\"o3_a: {o3_a}\")\n",
    "print(\"\")\n",
    "\n",
    "# Changes to PyTorch array reflects on open3d Tensor and vice versa\n",
    "th_a[0] = 100\n",
    "o3_a[1] = 200\n",
    "print(f\"th_a: {th_a}\")\n",
    "print(f\"o3_a: {o3_a}\")"
   ]
  },
  {
   "cell_type": "code",
   "execution_count": 19,
   "metadata": {},
   "outputs": [
    {
     "name": "stdout",
     "output_type": "stream",
     "text": [
      "th_a: tensor([1, 1, 1, 1, 1], dtype=torch.int32)\n",
      "o3_a: [1 1 1 1 1]\n",
      "Tensor[shape={5}, stride={1}, Int32, CPU:0, 0x28111583e70]\n",
      "\n",
      "th_a: tensor([100, 200,   1,   1,   1], dtype=torch.int32)\n",
      "o3_a: [100 200 1 1 1]\n",
      "Tensor[shape={5}, stride={1}, Int32, CPU:0, 0x28111583e70]\n"
     ]
    }
   ],
   "source": [
    "# To PyTorch\n",
    "#o3_a = o3c.Tensor([1, 1, 1, 1, 1], device=o3c.Device(\"CUDA:0\"))\n",
    "o3_a = o3c.Tensor([1, 1, 1, 1, 1], device=o3c.Device(\"CPU:0\"))\n",
    "th_a = torch.utils.dlpack.from_dlpack(o3_a.to_dlpack())\n",
    "o3_a = o3c.Tensor.from_dlpack(torch.utils.dlpack.to_dlpack(th_a))\n",
    "print(f\"th_a: {th_a}\")\n",
    "print(f\"o3_a: {o3_a}\")\n",
    "print(\"\")\n",
    "\n",
    "# Changes to PyTorch array reflects on open3d Tensor and vice versa\n",
    "th_a[0] = 100\n",
    "o3_a[1] = 200\n",
    "print(f\"th_a: {th_a}\")\n",
    "print(f\"o3_a: {o3_a}\")"
   ]
  },
  {
   "cell_type": "markdown",
   "metadata": {},
   "source": [
    "## Binary element-wise operations"
   ]
  },
  {
   "cell_type": "code",
   "execution_count": 20,
   "metadata": {},
   "outputs": [
    {
     "name": "stdout",
     "output_type": "stream",
     "text": [
      "a + b = [3.0 3.0 3.0]\n",
      "Tensor[shape={3}, stride={1}, Float32, CPU:0, 0x28111583e90]\n",
      "a - b = [-1.0 -1.0 -1.0]\n",
      "Tensor[shape={3}, stride={1}, Float32, CPU:0, 0x28111583bd0]\n",
      "a * b = [2.0 2.0 2.0]\n",
      "Tensor[shape={3}, stride={1}, Float32, CPU:0, 0x28111583c30]\n",
      "a / b = [0.5 0.5 0.5]\n",
      "Tensor[shape={3}, stride={1}, Float32, CPU:0, 0x28111583750]\n"
     ]
    }
   ],
   "source": [
    "a = o3c.Tensor([1, 1, 1], dtype=o3c.Dtype.Float32)\n",
    "b = o3c.Tensor([2, 2, 2], dtype=o3c.Dtype.Float32)\n",
    "print(\"a + b = {}\".format(a + b))\n",
    "print(\"a - b = {}\".format(a - b))\n",
    "print(\"a * b = {}\".format(a * b))\n",
    "print(\"a / b = {}\".format(a / b))"
   ]
  },
  {
   "cell_type": "code",
   "execution_count": 21,
   "metadata": {},
   "outputs": [
    {
     "name": "stdout",
     "output_type": "stream",
     "text": [
      "a + b = \n",
      "[[2.0 2.0 2.0],\n",
      " [2.0 2.0 2.0]]\n",
      "Tensor[shape={2, 3}, stride={3, 1}, Float32, CPU:0, 0x28111583c50]\n",
      "\n",
      "a + 1 = [2.0 2.0 2.0]\n",
      "Tensor[shape={3}, stride={1}, Float32, CPU:0, 0x28111583b50]\n",
      "a + True = [2.0 2.0 2.0]\n",
      "Tensor[shape={3}, stride={1}, Float32, CPU:0, 0x28111583ed0]\n",
      "a = [0.0 0.0 0.0]\n",
      "Tensor[shape={3}, stride={1}, Float32, CPU:0, 0x28111583850]\n"
     ]
    }
   ],
   "source": [
    "# Automatic broadcasting: as in Numpy\n",
    "a = o3c.Tensor.ones((2, 3), dtype = o3c.Dtype.Float32)\n",
    "b = o3c.Tensor.ones((3,), dtype = o3c.Dtype.Float32)\n",
    "print(\"a + b = \\n{}\\n\".format(a + b))\n",
    "\n",
    "# Automatic type casting.\n",
    "a = a[0]\n",
    "print(\"a + 1 = {}\".format(a + 1)) # Float + Int -> Float.\n",
    "print(\"a + True = {}\".format(a + True)) # Float + Bool -> Float.\n",
    "\n",
    "# Inplace.\n",
    "a -= True\n",
    "print(\"a = {}\".format(a))"
   ]
  },
  {
   "cell_type": "markdown",
   "metadata": {},
   "source": [
    "## Unary element-wise operations"
   ]
  },
  {
   "cell_type": "code",
   "execution_count": 22,
   "metadata": {},
   "outputs": [
    {
     "name": "stdout",
     "output_type": "stream",
     "text": [
      "a = [4.0 9.0 16.0]\n",
      "Tensor[shape={3}, stride={1}, Float32, CPU:0, 0x28111583af0]\n",
      "\n",
      "a.sqrt = [2.0 3.0 4.0]\n",
      "Tensor[shape={3}, stride={1}, Float32, CPU:0, 0x28111583ed0]\n",
      "\n",
      "a.sin = [-0.756802 0.412119 -0.287903]\n",
      "Tensor[shape={3}, stride={1}, Float32, CPU:0, 0x28111583850]\n",
      "\n",
      "a.cos = [-0.653644 -0.91113 -0.95766]\n",
      "Tensor[shape={3}, stride={1}, Float32, CPU:0, 0x28111583ed0]\n",
      "\n",
      "[2.0 3.0 4.0]\n",
      "Tensor[shape={3}, stride={1}, Float32, CPU:0, 0x28111583af0]\n"
     ]
    }
   ],
   "source": [
    "a = o3c.Tensor([4, 9, 16], dtype=o3c.Dtype.Float32)\n",
    "print(\"a = {}\\n\".format(a))\n",
    "print(\"a.sqrt = {}\\n\".format(a.sqrt()))\n",
    "print(\"a.sin = {}\\n\".format(a.sin()))\n",
    "print(\"a.cos = {}\\n\".format(a.cos()))\n",
    "\n",
    "# Inplace operation\n",
    "a.sqrt_()\n",
    "print(a)"
   ]
  },
  {
   "cell_type": "markdown",
   "metadata": {},
   "source": [
    "## Reduction"
   ]
  },
  {
   "cell_type": "code",
   "execution_count": 23,
   "metadata": {},
   "outputs": [
    {
     "name": "stdout",
     "output_type": "stream",
     "text": [
      "a.sum = 276\n",
      "Tensor[shape={}, stride={}, Int32, CPU:0, 0x281119d8e00]\n",
      "\n",
      "a.min = 0\n",
      "Tensor[shape={}, stride={}, Int32, CPU:0, 0x281119d9040]\n",
      "\n",
      "a.ArgMax = 23\n",
      "Tensor[shape={}, stride={}, Int64, CPU:0, 0x281119d8f30]\n",
      "\n"
     ]
    }
   ],
   "source": [
    "vals = np.array(range(24)).reshape((2, 3, 4))\n",
    "a = o3c.Tensor(vals)\n",
    "print(\"a.sum = {}\\n\".format(a.sum()))\n",
    "print(\"a.min = {}\\n\".format(a.min()))\n",
    "print(\"a.ArgMax = {}\\n\".format(a.argmax()))"
   ]
  },
  {
   "cell_type": "code",
   "execution_count": 24,
   "metadata": {},
   "outputs": [
    {
     "name": "stdout",
     "output_type": "stream",
     "text": [
      "Along dim=0\n",
      "[[12 14 16 18],\n",
      " [20 22 24 26],\n",
      " [28 30 32 34]]\n",
      "Tensor[shape={3, 4}, stride={4, 1}, Int32, CPU:0, 0x2811184d4f0]\n",
      "Along dim=(0, 2)\n",
      "[60 92 124]\n",
      "Tensor[shape={3}, stride={1}, Int32, CPU:0, 0x28111583930]\n",
      "\n",
      "Shape without retention : SizeVector[3]\n",
      "Shape with retention : SizeVector[1, 3, 1]\n"
     ]
    }
   ],
   "source": [
    "# With specified dimension.\n",
    "vals = np.array(range(24)).reshape((2, 3, 4))\n",
    "a = o3c.Tensor(vals)\n",
    "\n",
    "print(\"Along dim=0\\n{}\".format(a.sum(dim=(0))))\n",
    "print(\"Along dim=(0, 2)\\n{}\\n\".format(a.sum(dim=(0, 2))))\n",
    "\n",
    "# Retention of reduced dimension.\n",
    "print(\"Shape without retention : {}\".format(a.sum(dim=(0, 2)).shape))\n",
    "print(\"Shape with retention : {}\".format(a.sum(dim=(0, 2), keepdim=True).shape))"
   ]
  },
  {
   "cell_type": "markdown",
   "metadata": {},
   "source": [
    "## Slicing, indexing, getitem, and setitem"
   ]
  },
  {
   "cell_type": "code",
   "execution_count": 25,
   "metadata": {},
   "outputs": [
    {
     "name": "stdout",
     "output_type": "stream",
     "text": [
      "a = \n",
      "[[[0 1 2 3],\n",
      "  [4 5 6 7],\n",
      "  [8 9 10 11]],\n",
      " [[12 13 14 15],\n",
      "  [16 17 18 19],\n",
      "  [20 21 22 23]]]\n",
      "Tensor[shape={2, 3, 4}, stride={12, 4, 1}, Int32, CPU:0, 0x2811113ab00]\n",
      "\n",
      "a[1, 2] = [20 21 22 23]\n",
      "Tensor[shape={4}, stride={1}, Int32, CPU:0, 0x2811113ab50]\n",
      "\n",
      "a[1:] = \n",
      "[[[12 13 14 15],\n",
      "  [16 17 18 19],\n",
      "  [20 21 22 23]]]\n",
      "Tensor[shape={1, 3, 4}, stride={12, 4, 1}, Int32, CPU:0, 0x2811113ab30]\n",
      "\n",
      "a[:, 0:3:2, :] = \n",
      "[[[0 1 2 3],\n",
      "  [8 9 10 11]],\n",
      " [[12 13 14 15],\n",
      "  [20 21 22 23]]]\n",
      "Tensor[shape={2, 2, 4}, stride={8, 4, 1}, Int32, CPU:0, 0x28111c81b70]\n",
      "Tensor[shape={2, 2, 4}, stride={12, 8, 1}, Int32, CPU:0, 0x2811113ab00]\n",
      "\n",
      "a[:-1, 0:3:2, 2] = \n",
      "[[2 10]]\n",
      "Tensor[shape={1, 2}, stride={2, 1}, Int32, CPU:0, 0x281119d90e0]\n",
      "Tensor[shape={1, 2}, stride={12, 8}, Int32, CPU:0, 0x2811113ab08]\n",
      "\n"
     ]
    }
   ],
   "source": [
    "vals = np.array(range(24)).reshape((2, 3, 4))\n",
    "a = o3c.Tensor(vals)\n",
    "print(\"a = \\n{}\\n\".format(a))\n",
    "\n",
    "# Indexing __getitem__.\n",
    "print(\"a[1, 2] = {}\\n\".format(a[1, 2]))\n",
    "\n",
    "# Slicing __getitem__.\n",
    "print(\"a[1:] = \\n{}\\n\".format(a[1:]))\n",
    "\n",
    "# slice object.\n",
    "print(\"a[:, 0:3:2, :] = \\n{}\\n\".format(a[:, 0:3:2, :]))\n",
    "\n",
    "# Combined __getitem__\n",
    "print(\"a[:-1, 0:3:2, 2] = \\n{}\\n\".format(a[:-1, 0:3:2, 2]))"
   ]
  },
  {
   "cell_type": "code",
   "execution_count": 26,
   "metadata": {},
   "outputs": [
    {
     "name": "stdout",
     "output_type": "stream",
     "text": [
      "b = [[102 110]]\n",
      "Tensor[shape={1, 2}, stride={2, 1}, Int32, CPU:0, 0x281119d8fc0]\n",
      "Tensor[shape={1, 2}, stride={12, 8}, Int32, CPU:0, 0x2811113a9b8]\n",
      "\n",
      "a = \n",
      "[[[0 1 102 3],\n",
      "  [4 5 6 7],\n",
      "  [8 9 110 11]],\n",
      " [[12 13 14 15],\n",
      "  [16 17 18 19],\n",
      "  [20 21 22 23]]]\n",
      "Tensor[shape={2, 3, 4}, stride={12, 4, 1}, Int32, CPU:0, 0x2811113a9b0]\n"
     ]
    }
   ],
   "source": [
    "vals = np.array(range(24)).reshape((2, 3, 4))\n",
    "a = o3c.Tensor(vals)\n",
    "\n",
    "# Changes get reflected.\n",
    "b = a[:-1, 0:3:2, 2]\n",
    "b[0] += 100\n",
    "print(\"b = {}\\n\".format(b))\n",
    "print(\"a = \\n{}\".format(a))"
   ]
  },
  {
   "cell_type": "code",
   "execution_count": 28,
   "metadata": {},
   "outputs": [
    {
     "name": "stdout",
     "output_type": "stream",
     "text": [
      "[[[0 1 102 3],\n",
      "  [4 5 106 7],\n",
      "  [8 9 110 11]],\n",
      " [[12 13 114 15],\n",
      "  [16 17 118 19],\n",
      "  [20 21 122 23]]]\n",
      "Tensor[shape={2, 3, 4}, stride={12, 4, 1}, Int32, CPU:0, 0x2811113ac50]\n"
     ]
    }
   ],
   "source": [
    "vals = np.array(range(24)).reshape((2, 3, 4))\n",
    "a = o3c.Tensor(vals)\n",
    "\n",
    "# Example __setitem__\n",
    "a[:, :, 2] += 100\n",
    "print(a)"
   ]
  },
  {
   "cell_type": "markdown",
   "metadata": {},
   "source": [
    "## Advanced indexing"
   ]
  },
  {
   "cell_type": "markdown",
   "metadata": {},
   "source": [
    "> Advanced indexing is triggered while passing an index array or a boolean array or their combination with integer/slice object. Note that advanced indexing always returns a copy of the data (contrast with basic slicing that returns a view).\n",
    "\n",
    "See also:\n",
    "\n",
    "- [Combining advanced and basic indexing](https://www.open3d.org/docs/latest/tutorial/Basic/tensor.html#Combining-advanced-and-basic-indexing)\n",
    "- [Boolean array indexing](https://www.open3d.org/docs/latest/tutorial/Basic/tensor.html#Boolean-array-indexing)\n"
   ]
  },
  {
   "cell_type": "code",
   "execution_count": 29,
   "metadata": {},
   "outputs": [
    {
     "name": "stdout",
     "output_type": "stream",
     "text": [
      "a[[0, 1], [1, 2], [1, 0]] = [5 20]\n",
      "Tensor[shape={2}, stride={1}, Int32, CPU:0, 0x281119d8e10]\n",
      "\n",
      "b = [101 5]\n",
      "Tensor[shape={2}, stride={1}, Int32, CPU:0, 0x281119d9170]\n",
      "\n",
      "a[[0, 0], [0, 1], [1, 1]] = [1 5]\n",
      "Tensor[shape={2}, stride={1}, Int32, CPU:0, 0x281119d8f10]\n"
     ]
    }
   ],
   "source": [
    "vals = np.array(range(24)).reshape((2, 3, 4))\n",
    "a = o3c.Tensor(vals)\n",
    "\n",
    "# Along each dimension, a specific element is selected.\n",
    "print(\"a[[0, 1], [1, 2], [1, 0]] = {}\\n\".format(a[[0, 1], [1, 2], [1, 0]]))\n",
    "\n",
    "# Changes not reflected as it is a copy.\n",
    "b = a[[0, 0], [0, 1], [1, 1]]\n",
    "b[0] += 100\n",
    "print(\"b = {}\\n\".format(b))\n",
    "print(\"a[[0, 0], [0, 1], [1, 1]] = {}\".format(a[[0, 0], [0, 1], [1, 1]]))"
   ]
  },
  {
   "cell_type": "markdown",
   "metadata": {},
   "source": [
    "## Logical operations"
   ]
  },
  {
   "cell_type": "code",
   "execution_count": 32,
   "metadata": {},
   "outputs": [
    {
     "name": "stdout",
     "output_type": "stream",
     "text": [
      "a AND b = [True False False False]\n",
      "Tensor[shape={4}, stride={1}, Bool, CPU:0, 0x281119d8e30]\n",
      "a OR b = [True True True False]\n",
      "Tensor[shape={4}, stride={1}, Bool, CPU:0, 0x281119d90c0]\n",
      "a XOR b = [False True True False]\n",
      "Tensor[shape={4}, stride={1}, Bool, CPU:0, 0x281119d8db0]\n",
      "NOT a = [False True False True]\n",
      "Tensor[shape={4}, stride={1}, Bool, CPU:0, 0x281119d8f90]\n",
      "\n",
      "a.any = True\n",
      "Tensor[shape={}, stride={}, Bool, CPU:0, 0x281119d8f70]\n",
      "a.all = False\n",
      "Tensor[shape={}, stride={}, Bool, CPU:0, 0x281119d8dd0]\n",
      "\n",
      "c AND d = [False False True False]\n",
      "Tensor[shape={4}, stride={1}, Bool, CPU:0, 0x281119d8f10]\n"
     ]
    }
   ],
   "source": [
    "a = o3c.Tensor(np.array([True, False, True, False]))\n",
    "b = o3c.Tensor(np.array([True, True, False, False]))\n",
    "\n",
    "print(\"a AND b = {}\".format(a.logical_and(b)))\n",
    "print(\"a OR b = {}\".format(a.logical_or(b)))\n",
    "print(\"a XOR b = {}\".format(a.logical_xor(b)))\n",
    "print(\"NOT a = {}\\n\".format(a.logical_not()))\n",
    "\n",
    "# Only works for boolean tensors.\n",
    "print(\"a.any = {}\".format(a.any()))\n",
    "print(\"a.all = {}\\n\".format(a.all()))\n",
    "\n",
    "# If tensor is not boolean, 0 will be treated as False, while non-zero as true.\n",
    "# The tensor will be filled with 0 or 1 casted to tensor's dtype.\n",
    "c = o3c.Tensor(np.array([2.0, 0.0, 3.5, 0.0]))\n",
    "d = o3c.Tensor(np.array([0.0, 3.0, 1.5, 0.0]))\n",
    "print(\"c AND d = {}\".format(c.logical_and(d)))"
   ]
  },
  {
   "cell_type": "code",
   "execution_count": 33,
   "metadata": {},
   "outputs": [
    {
     "name": "stdout",
     "output_type": "stream",
     "text": [
      "allclose : True\n",
      "isclose : [True True True True]\n",
      "Tensor[shape={4}, stride={1}, Bool, CPU:0, 0x281119d8e20]\n",
      "issame : False\n"
     ]
    }
   ],
   "source": [
    "a = o3c.Tensor(np.array([1, 2, 3, 4]), dtype=o3c.Dtype.Float64)\n",
    "b = o3c.Tensor(np.array([1, 1.99999, 3, 4]))\n",
    "\n",
    "# Throws exception if the device/dtype is not same.\n",
    "# Returns false if the shape is not same.\n",
    "print(\"allclose : {}\".format(a.allclose(b)))\n",
    "\n",
    "# Throws exception if the device/dtype/shape is not same.\n",
    "print(\"isclose : {}\".format(a.isclose(b)))\n",
    "\n",
    "# Returns false if the device/dtype/shape/ is not same.\n",
    "print(\"issame : {}\".format(a.issame(b)))"
   ]
  },
  {
   "cell_type": "markdown",
   "metadata": {},
   "source": [
    "## Comparision Operations"
   ]
  },
  {
   "cell_type": "code",
   "execution_count": 34,
   "metadata": {},
   "outputs": [
    {
     "name": "stdout",
     "output_type": "stream",
     "text": [
      "a > b = [False True False]\n",
      "Tensor[shape={3}, stride={1}, Bool, CPU:0, 0x281119d9140]\n",
      "a >= b = [True True False]\n",
      "Tensor[shape={3}, stride={1}, Bool, CPU:0, 0x281119d90c0]\n",
      "a < b = [False False True]\n",
      "Tensor[shape={3}, stride={1}, Bool, CPU:0, 0x281119d90f0]\n",
      "a <= b = [True False True]\n",
      "Tensor[shape={3}, stride={1}, Bool, CPU:0, 0x281119d8e50]\n",
      "a == b = [True False False]\n",
      "Tensor[shape={3}, stride={1}, Bool, CPU:0, 0x281119d9050]\n",
      "a != b = [False True True]\n",
      "Tensor[shape={3}, stride={1}, Bool, CPU:0, 0x281119d8eb0]\n",
      "a > b = [False True False]\n",
      "Tensor[shape={3}, stride={1}, Bool, CPU:0, 0x281119d90a0]\n"
     ]
    }
   ],
   "source": [
    "a = o3c.Tensor([0, 1, -1])\n",
    "b = o3c.Tensor([0, 0, 0])\n",
    "\n",
    "print(\"a > b = {}\".format(a > b))\n",
    "print(\"a >= b = {}\".format(a >= b))\n",
    "print(\"a < b = {}\".format(a < b))\n",
    "print(\"a <= b = {}\".format(a <= b))\n",
    "print(\"a == b = {}\".format(a == b))\n",
    "print(\"a != b = {}\".format(a != b))\n",
    "\n",
    "# Throws exception if device/dtype is not shape.\n",
    "# If shape is not same, then tensors should be broadcast compatible.\n",
    "print(\"a > b = {}\".format(a > b[0]))"
   ]
  },
  {
   "cell_type": "markdown",
   "metadata": {},
   "source": [
    "## Nonzero operations"
   ]
  },
  {
   "cell_type": "code",
   "execution_count": 35,
   "metadata": {},
   "outputs": [
    {
     "name": "stdout",
     "output_type": "stream",
     "text": [
      "a = \n",
      "[[3 0 0],\n",
      " [0 4 0],\n",
      " [5 6 0]]\n",
      "Tensor[shape={3, 3}, stride={3, 1}, Int32, CPU:0, 0x28111b38d80]\n",
      "\n",
      "a.nonzero() = \n",
      "[[0 1 2 2]\n",
      "Tensor[shape={4}, stride={1}, Int64, CPU:0, 0x28111b38c60], [0 1 0 1]\n",
      "Tensor[shape={4}, stride={1}, Int64, CPU:0, 0x28111b38a50]]\n",
      "\n",
      "a.nonzero(as_tuple = 1) = \n",
      "[[0 1 2 2],\n",
      " [0 1 0 1]]\n",
      "Tensor[shape={2, 4}, stride={4, 1}, Int64, CPU:0, 0x28111c82160]\n"
     ]
    }
   ],
   "source": [
    "a = o3c.Tensor([[3, 0, 0], [0, 4, 0], [5, 6, 0]])\n",
    "\n",
    "print(\"a = \\n{}\\n\".format(a))\n",
    "print(\"a.nonzero() = \\n{}\\n\".format(a.nonzero()))\n",
    "print(\"a.nonzero(as_tuple = 1) = \\n{}\".format(a.nonzero(as_tuple = 1)))"
   ]
  },
  {
   "cell_type": "code",
   "execution_count": null,
   "metadata": {},
   "outputs": [],
   "source": []
  }
 ],
 "metadata": {
  "kernelspec": {
   "display_name": "Python 3",
   "language": "python",
   "name": "python3"
  },
  "language_info": {
   "codemirror_mode": {
    "name": "ipython",
    "version": 3
   },
   "file_extension": ".py",
   "mimetype": "text/x-python",
   "name": "python",
   "nbconvert_exporter": "python",
   "pygments_lexer": "ipython3",
   "version": "3.10.14"
  }
 },
 "nbformat": 4,
 "nbformat_minor": 2
}
