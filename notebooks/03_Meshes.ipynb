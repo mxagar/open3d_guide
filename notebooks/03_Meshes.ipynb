{
 "cells": [
  {
   "cell_type": "markdown",
   "metadata": {},
   "source": [
    "# Open3D Guide: 3. Meshes"
   ]
  },
  {
   "cell_type": "markdown",
   "metadata": {},
   "source": [
    "Source: [https://www.open3d.org/docs/latest/tutorial/Basic/mesh.html](https://www.open3d.org/docs/latest/tutorial/Basic/mesh.html)."
   ]
  },
  {
   "cell_type": "markdown",
   "metadata": {},
   "source": [
    "Summary of contents:\n",
    "\n",
    "- Load and check properties\n",
    "- "
   ]
  },
  {
   "cell_type": "code",
   "execution_count": 1,
   "metadata": {},
   "outputs": [],
   "source": [
    "import sys\n",
    "import os\n",
    "\n",
    "# Add the directory containing 'examples' to the Python path\n",
    "notebook_directory = os.getcwd()\n",
    "parent_directory = os.path.dirname(notebook_directory)  # Parent directory\n",
    "sys.path.append(parent_directory)"
   ]
  },
  {
   "cell_type": "code",
   "execution_count": 2,
   "metadata": {},
   "outputs": [
    {
     "name": "stdout",
     "output_type": "stream",
     "text": [
      "Jupyter environment detected. Enabling Open3D WebVisualizer.\n",
      "[Open3D INFO] WebRTC GUI backend enabled.\n",
      "[Open3D INFO] WebRTCWindowSystem: HTTP handshake server disabled.\n"
     ]
    }
   ],
   "source": [
    "import open3d as o3d\n",
    "from examples import open3d_example as o3dex\n",
    "import numpy as np"
   ]
  },
  {
   "cell_type": "markdown",
   "metadata": {},
   "source": [
    "## Load and Check Properties"
   ]
  },
  {
   "cell_type": "code",
   "execution_count": 3,
   "metadata": {},
   "outputs": [],
   "source": [
    "# Download data\n",
    "dataset = o3d.data.KnotMesh()\n",
    "mesh = o3d.io.read_triangle_mesh(dataset.path) # ../models/KnotMesh.ply"
   ]
  },
  {
   "cell_type": "code",
   "execution_count": 4,
   "metadata": {},
   "outputs": [
    {
     "name": "stdout",
     "output_type": "stream",
     "text": [
      "TriangleMesh with 1440 points and 2880 triangles.\n",
      "Vertices:\n",
      "[[  4.51268387  28.68865967 -76.55680847]\n",
      " [  7.63622284  35.52046967 -69.78063965]\n",
      " [  6.21986008  44.22465134 -64.82303619]\n",
      " ...\n",
      " [-22.12651634  31.28466606 -87.37570953]\n",
      " [-13.91188431  25.4865818  -86.25827026]\n",
      " [ -5.27768707  23.36245346 -81.43279266]]\n",
      "Triangles:\n",
      "[[   0   12   13]\n",
      " [   0   13    1]\n",
      " [   1   13   14]\n",
      " ...\n",
      " [1438   11 1439]\n",
      " [1439   11    0]\n",
      " [1439    0 1428]]\n"
     ]
    }
   ],
   "source": [
    "print(mesh)\n",
    "# Open3D provides direct memory access to these fields via numpy\n",
    "print('Vertices:')\n",
    "print(np.asarray(mesh.vertices))\n",
    "print('Triangles:')\n",
    "print(np.asarray(mesh.triangles))"
   ]
  },
  {
   "cell_type": "markdown",
   "metadata": {},
   "source": [
    "## Visualize a mesh"
   ]
  },
  {
   "cell_type": "code",
   "execution_count": 5,
   "metadata": {},
   "outputs": [
    {
     "name": "stdout",
     "output_type": "stream",
     "text": [
      "Try to render a mesh with normals (exist: False) and colors (exist: False)\n",
      "A mesh with no normals and no colors does not look good.\n"
     ]
    }
   ],
   "source": [
    "print(\"Try to render a mesh with normals (exist: \" +\n",
    "      str(mesh.has_vertex_normals()) + \") and colors (exist: \" +\n",
    "      str(mesh.has_vertex_colors()) + \")\")\n",
    "o3d.visualization.draw_geometries([mesh])\n",
    "print(\"A mesh with no normals and no colors does not look good.\")"
   ]
  },
  {
   "cell_type": "markdown",
   "metadata": {},
   "source": [
    "## Surface normal estimation"
   ]
  },
  {
   "cell_type": "code",
   "execution_count": 6,
   "metadata": {},
   "outputs": [
    {
     "name": "stdout",
     "output_type": "stream",
     "text": [
      "Computing normal and rendering it.\n",
      "[[ 0.79164373 -0.53951444  0.28674793]\n",
      " [ 0.8319824  -0.53303008  0.15389681]\n",
      " [ 0.83488162 -0.09250101  0.54260136]\n",
      " ...\n",
      " [ 0.16269924 -0.76215917 -0.6266118 ]\n",
      " [ 0.52755226 -0.83707495 -0.14489352]\n",
      " [ 0.56778973 -0.76467734 -0.30476777]]\n"
     ]
    }
   ],
   "source": [
    "# Rendering is much better with normals\n",
    "print(\"Computing normal and rendering it.\")\n",
    "mesh.compute_vertex_normals()\n",
    "print(np.asarray(mesh.triangle_normals))\n",
    "o3d.visualization.draw_geometries([mesh])"
   ]
  },
  {
   "cell_type": "markdown",
   "metadata": {},
   "source": [
    "## Crop mesh"
   ]
  },
  {
   "cell_type": "code",
   "execution_count": 9,
   "metadata": {},
   "outputs": [],
   "source": [
    "import copy"
   ]
  },
  {
   "cell_type": "code",
   "execution_count": 11,
   "metadata": {},
   "outputs": [
    {
     "name": "stdout",
     "output_type": "stream",
     "text": [
      "We make a partial mesh of only the first half triangles.\n",
      "std::vector<Eigen::Vector3i> with 1440 elements.\n",
      "Use numpy.asarray() to access data.\n"
     ]
    }
   ],
   "source": [
    "print(\"We make a partial mesh of only the first half triangles.\")\n",
    "# Make a copy\n",
    "mesh1 = copy.deepcopy(mesh)\n",
    "# Vector3iVector: Convert int32 numpy array of shape (n, 3) to Open3D format\n",
    "# https://www.open3d.org/docs/release/python_api/open3d.utility.html#open3d-utility\n",
    "# Take 1/2 of triangle normals and triangles\n",
    "mesh1.triangles = o3d.utility.Vector3iVector(\n",
    "    np.asarray(mesh1.triangles)[:len(mesh1.triangles) // 2, :])\n",
    "mesh1.triangle_normals = o3d.utility.Vector3dVector(\n",
    "    np.asarray(mesh1.triangle_normals)[:len(mesh1.triangle_normals) // 2, :])\n",
    "print(mesh1.triangles)\n",
    "o3d.visualization.draw_geometries([mesh1])"
   ]
  },
  {
   "cell_type": "markdown",
   "metadata": {},
   "source": [
    "## Paint mesh"
   ]
  },
  {
   "cell_type": "code",
   "execution_count": 12,
   "metadata": {},
   "outputs": [
    {
     "name": "stdout",
     "output_type": "stream",
     "text": [
      "Painting the mesh\n"
     ]
    }
   ],
   "source": [
    "print(\"Painting the mesh\")\n",
    "mesh1.paint_uniform_color([1, 0.706, 0])\n",
    "o3d.visualization.draw_geometries([mesh1])"
   ]
  },
  {
   "cell_type": "markdown",
   "metadata": {},
   "source": [
    "## Check properties"
   ]
  },
  {
   "cell_type": "code",
   "execution_count": 3,
   "metadata": {},
   "outputs": [],
   "source": [
    "def check_properties(name, mesh):\n",
    "    mesh.compute_vertex_normals()\n",
    "\n",
    "    edge_manifold = mesh.is_edge_manifold(allow_boundary_edges=True)\n",
    "    edge_manifold_boundary = mesh.is_edge_manifold(allow_boundary_edges=False)\n",
    "    vertex_manifold = mesh.is_vertex_manifold()\n",
    "    self_intersecting = mesh.is_self_intersecting()\n",
    "    watertight = mesh.is_watertight()\n",
    "    orientable = mesh.is_orientable()\n",
    "\n",
    "    print(name)\n",
    "    print(f\"  edge_manifold:          {edge_manifold}\")\n",
    "    print(f\"  edge_manifold_boundary: {edge_manifold_boundary}\")\n",
    "    print(f\"  vertex_manifold:        {vertex_manifold}\")\n",
    "    print(f\"  self_intersecting:      {self_intersecting}\")\n",
    "    print(f\"  watertight:             {watertight}\")\n",
    "    print(f\"  orientable:             {orientable}\")\n",
    "\n",
    "    geoms = [mesh]\n",
    "    if not edge_manifold:\n",
    "        edges = mesh.get_non_manifold_edges(allow_boundary_edges=True)\n",
    "        geoms.append(o3dex.edges_to_lineset(mesh, edges, (1, 0, 0)))\n",
    "    if not edge_manifold_boundary:\n",
    "        edges = mesh.get_non_manifold_edges(allow_boundary_edges=False)\n",
    "        geoms.append(o3dex.edges_to_lineset(mesh, edges, (0, 1, 0)))\n",
    "    if not vertex_manifold:\n",
    "        verts = np.asarray(mesh.get_non_manifold_vertices())\n",
    "        pcl = o3d.geometry.PointCloud(\n",
    "            points=o3d.utility.Vector3dVector(np.asarray(mesh.vertices)[verts]))\n",
    "        pcl.paint_uniform_color((0, 0, 1))\n",
    "        geoms.append(pcl)\n",
    "    if self_intersecting:\n",
    "        intersecting_triangles = np.asarray(\n",
    "            mesh.get_self_intersecting_triangles())\n",
    "        intersecting_triangles = intersecting_triangles[0:1]\n",
    "        intersecting_triangles = np.unique(intersecting_triangles)\n",
    "        print(\"  # visualize self-intersecting triangles\")\n",
    "        triangles = np.asarray(mesh.triangles)[intersecting_triangles]\n",
    "        edges = [\n",
    "            np.vstack((triangles[:, i], triangles[:, j]))\n",
    "            for i, j in [(0, 1), (1, 2), (2, 0)]\n",
    "        ]\n",
    "        edges = np.hstack(edges).T\n",
    "        edges = o3d.utility.Vector2iVector(edges)\n",
    "        geoms.append(o3dex.edges_to_lineset(mesh, edges, (1, 0, 1)))\n",
    "    o3d.visualization.draw_geometries(geoms, mesh_show_back_face=True)"
   ]
  },
  {
   "cell_type": "code",
   "execution_count": 4,
   "metadata": {},
   "outputs": [
    {
     "name": "stdout",
     "output_type": "stream",
     "text": [
      "Knot\n",
      "  edge_manifold:          True\n",
      "  edge_manifold_boundary: True\n",
      "  vertex_manifold:        True\n",
      "  self_intersecting:      False\n",
      "  watertight:             True\n",
      "  orientable:             True\n",
      "non-manifold edge\n",
      "  edge_manifold:          False\n",
      "  edge_manifold_boundary: False\n",
      "  vertex_manifold:        True\n",
      "  self_intersecting:      False\n",
      "  watertight:             False\n",
      "  orientable:             True\n",
      "non-manifold vertex\n",
      "  edge_manifold:          True\n",
      "  edge_manifold_boundary: True\n",
      "  vertex_manifold:        False\n",
      "  self_intersecting:      False\n",
      "  watertight:             False\n",
      "  orientable:             True\n",
      "open box\n",
      "  edge_manifold:          True\n",
      "  edge_manifold_boundary: False\n",
      "  vertex_manifold:        True\n",
      "  self_intersecting:      False\n",
      "  watertight:             False\n",
      "  orientable:             True\n",
      "intersecting_boxes\n",
      "  edge_manifold:          True\n",
      "  edge_manifold_boundary: True\n",
      "  vertex_manifold:        True\n",
      "  self_intersecting:      True\n",
      "  watertight:             False\n",
      "  orientable:             True\n",
      "  # visualize self-intersecting triangles\n"
     ]
    }
   ],
   "source": [
    "check_properties('Knot', o3dex.get_knot_mesh())\n",
    "#check_properties('Moebius', o3d.geometry.TriangleMesh.create_moebius(twists=1))\n",
    "check_properties(\"non-manifold edge\", o3dex.get_non_manifold_edge_mesh())\n",
    "check_properties(\"non-manifold vertex\", o3dex.get_non_manifold_vertex_mesh())\n",
    "check_properties(\"open box\", o3dex.get_open_box_mesh())\n",
    "check_properties(\"intersecting_boxes\", o3dex.get_intersecting_boxes_mesh())"
   ]
  },
  {
   "cell_type": "markdown",
   "metadata": {},
   "source": [
    "## Mesh filtering"
   ]
  },
  {
   "cell_type": "markdown",
   "metadata": {},
   "source": [
    "### Average filter"
   ]
  },
  {
   "cell_type": "markdown",
   "metadata": {},
   "source": [
    "The simplest filter is the average filter. A given vertex v_i is given by the average of the adjacent vertices N."
   ]
  },
  {
   "cell_type": "code",
   "execution_count": 5,
   "metadata": {},
   "outputs": [
    {
     "name": "stdout",
     "output_type": "stream",
     "text": [
      "create noisy mesh\n",
      "filter with average with 1 iteration\n",
      "filter with average with 5 iterations\n"
     ]
    }
   ],
   "source": [
    "# Add noise to vertices in Numpy\n",
    "print('create noisy mesh')\n",
    "mesh_in = o3dex.get_knot_mesh()\n",
    "vertices = np.asarray(mesh_in.vertices)\n",
    "noise = 5\n",
    "vertices += np.random.uniform(0, noise, size=vertices.shape)\n",
    "# Convert Numpy to O3D format\n",
    "mesh_in.vertices = o3d.utility.Vector3dVector(vertices)\n",
    "mesh_in.compute_vertex_normals()\n",
    "o3d.visualization.draw_geometries([mesh_in])\n",
    "\n",
    "# Average filter\n",
    "# The simplest filter is the average filter.\n",
    "# A given vertex v_i is given by the average of the adjacent vertices N.\n",
    "print('filter with average with 1 iteration')\n",
    "mesh_out = mesh_in.filter_smooth_simple(number_of_iterations=1)\n",
    "mesh_out.compute_vertex_normals()\n",
    "o3d.visualization.draw_geometries([mesh_out])\n",
    "\n",
    "print('filter with average with 5 iterations')\n",
    "mesh_out = mesh_in.filter_smooth_simple(number_of_iterations=5)\n",
    "mesh_out.compute_vertex_normals()\n",
    "o3d.visualization.draw_geometries([mesh_out])"
   ]
  },
  {
   "cell_type": "markdown",
   "metadata": {},
   "source": [
    "### Laplacian"
   ]
  },
  {
   "cell_type": "code",
   "execution_count": 6,
   "metadata": {},
   "outputs": [
    {
     "name": "stdout",
     "output_type": "stream",
     "text": [
      "filter with Laplacian with 10 iterations\n",
      "filter with Laplacian with 50 iterations\n"
     ]
    }
   ],
   "source": [
    "# Normalized weights that relate to the distance of the neighboring vertices\n",
    "# The problem with the average and Laplacian filter is that they lead to a shrinkage of the triangle mesh\n",
    "print('filter with Laplacian with 10 iterations')\n",
    "mesh_out = mesh_in.filter_smooth_laplacian(number_of_iterations=10)\n",
    "mesh_out.compute_vertex_normals()\n",
    "o3d.visualization.draw_geometries([mesh_out])\n",
    "\n",
    "print('filter with Laplacian with 50 iterations')\n",
    "mesh_out = mesh_in.filter_smooth_laplacian(number_of_iterations=50)\n",
    "mesh_out.compute_vertex_normals()\n",
    "o3d.visualization.draw_geometries([mesh_out])"
   ]
  },
  {
   "cell_type": "markdown",
   "metadata": {},
   "source": [
    "### Taubin filter"
   ]
  },
  {
   "cell_type": "code",
   "execution_count": 7,
   "metadata": {},
   "outputs": [
    {
     "name": "stdout",
     "output_type": "stream",
     "text": [
      "filter with Taubin with 10 iterations\n",
      "filter with Taubin with 100 iterations\n"
     ]
    }
   ],
   "source": [
    "# The problem with the average and Laplacian filter is that they lead to a shrinkage of the triangle mesh\n",
    "# The application of two Laplacian filters with different strength parameters can prevent the mesh shrinkage\n",
    "print('filter with Taubin with 10 iterations')\n",
    "mesh_out = mesh_in.filter_smooth_taubin(number_of_iterations=10)\n",
    "mesh_out.compute_vertex_normals()\n",
    "o3d.visualization.draw_geometries([mesh_out])\n",
    "\n",
    "print('filter with Taubin with 100 iterations')\n",
    "mesh_out = mesh_in.filter_smooth_taubin(number_of_iterations=100)\n",
    "mesh_out.compute_vertex_normals()\n",
    "o3d.visualization.draw_geometries([mesh_out])"
   ]
  },
  {
   "cell_type": "markdown",
   "metadata": {},
   "source": [
    "## Sampling"
   ]
  },
  {
   "cell_type": "code",
   "execution_count": 8,
   "metadata": {},
   "outputs": [],
   "source": [
    "mesh = o3d.geometry.TriangleMesh.create_sphere()\n",
    "mesh.compute_vertex_normals()\n",
    "o3d.visualization.draw_geometries([mesh])\n",
    "# Uniform sampling: fast, but can lead to clusters of points\n",
    "pcd = mesh.sample_points_uniformly(number_of_points=500)\n",
    "o3d.visualization.draw_geometries([pcd])"
   ]
  },
  {
   "cell_type": "code",
   "execution_count": 5,
   "metadata": {},
   "outputs": [],
   "source": [
    "mesh = o3dex.get_bunny_mesh()\n",
    "mesh.compute_vertex_normals()\n",
    "o3d.visualization.draw_geometries([mesh])\n",
    "# Uniform sampling: fast, but can lead to clusters of points\n",
    "pcd = mesh.sample_points_uniformly(number_of_points=50000)\n",
    "o3d.visualization.draw_geometries([pcd])"
   ]
  },
  {
   "cell_type": "code",
   "execution_count": 6,
   "metadata": {},
   "outputs": [],
   "source": [
    "# Uniform sampling can yield clusters of points on the surface, \n",
    "# while a method called Poisson disk sampling can evenly distribute the points on the surface\n",
    "# by eliminating redundant (high density) samples.\n",
    "# We have 2 options to provide the initial point cloud to remove from\n",
    "# 1) Default via the parameter init_factor: \n",
    "# The method first samples uniformly a point cloud from the mesh \n",
    "# with init_factor x number_of_points and uses this for the elimination.\n",
    "mesh = o3d.geometry.TriangleMesh.create_sphere()\n",
    "pcd = mesh.sample_points_poisson_disk(number_of_points=500, init_factor=5)\n",
    "o3d.visualization.draw_geometries([pcd])\n",
    "# 2) One can provide a point cloud and pass it to the sample_points_poisson_disk method.\n",
    "# Then, this point cloud is used for elimination.\n",
    "pcd = mesh.sample_points_uniformly(number_of_points=2500)\n",
    "pcd = mesh.sample_points_poisson_disk(number_of_points=500, pcl=pcd)\n",
    "o3d.visualization.draw_geometries([pcd])"
   ]
  },
  {
   "cell_type": "code",
   "execution_count": 8,
   "metadata": {},
   "outputs": [],
   "source": [
    "mesh = o3dex.get_bunny_mesh()\n",
    "pcd = mesh.sample_points_poisson_disk(number_of_points=10000, init_factor=5)\n",
    "o3d.visualization.draw_geometries([pcd])\n",
    "\n",
    "pcd = mesh.sample_points_uniformly(number_of_points=50000)\n",
    "pcd = mesh.sample_points_poisson_disk(number_of_points=10000, pcl=pcd)\n",
    "o3d.visualization.draw_geometries([pcd])"
   ]
  },
  {
   "cell_type": "markdown",
   "metadata": {},
   "source": [
    "## Mesh subdivision"
   ]
  },
  {
   "cell_type": "code",
   "execution_count": 12,
   "metadata": {},
   "outputs": [
    {
     "name": "stdout",
     "output_type": "stream",
     "text": [
      "The mesh has 8 vertices and 12 triangles\n",
      "After subdivision it has 26 vertices and 48 triangles\n"
     ]
    }
   ],
   "source": [
    "# In mesh subdivision we divide each triangle into a number of smaller triangles\n",
    "# In the simplest case, we compute the midpoint of each side per triangle\n",
    "# and divide the triangle into four smaller triangles: subdivide_midpoint.\n",
    "mesh = o3d.geometry.TriangleMesh.create_box()\n",
    "mesh.compute_vertex_normals()\n",
    "print(\n",
    "    f'The mesh has {len(mesh.vertices)} vertices and {len(mesh.triangles)} triangles'\n",
    ")\n",
    "o3d.visualization.draw_geometries([mesh], mesh_show_wireframe=True)\n",
    "mesh = mesh.subdivide_midpoint(number_of_iterations=1)\n",
    "print(\n",
    "    f'After subdivision it has {len(mesh.vertices)} vertices and {len(mesh.triangles)} triangles'\n",
    ")\n",
    "o3d.visualization.draw_geometries([mesh], mesh_show_wireframe=True)"
   ]
  },
  {
   "cell_type": "code",
   "execution_count": 14,
   "metadata": {},
   "outputs": [
    {
     "name": "stdout",
     "output_type": "stream",
     "text": [
      "The mesh has 762 vertices and 1520 triangles\n",
      "After subdivision it has 12162 vertices and 24320 triangles\n"
     ]
    }
   ],
   "source": [
    "# Another subdivision method: [Loop1987]\n",
    "mesh = o3d.geometry.TriangleMesh.create_sphere()\n",
    "mesh.compute_vertex_normals()\n",
    "print(\n",
    "    f'The mesh has {len(mesh.vertices)} vertices and {len(mesh.triangles)} triangles'\n",
    ")\n",
    "o3d.visualization.draw_geometries([mesh], mesh_show_wireframe=True)\n",
    "mesh = mesh.subdivide_loop(number_of_iterations=2)\n",
    "print(\n",
    "    f'After subdivision it has {len(mesh.vertices)} vertices and {len(mesh.triangles)} triangles'\n",
    ")\n",
    "o3d.visualization.draw_geometries([mesh], mesh_show_wireframe=True)"
   ]
  },
  {
   "cell_type": "code",
   "execution_count": 16,
   "metadata": {},
   "outputs": [
    {
     "name": "stdout",
     "output_type": "stream",
     "text": [
      "The mesh has 1440 vertices and 2880 triangles\n",
      "After subdivision it has 5760 vertices and 11520 triangles\n"
     ]
    }
   ],
   "source": [
    "mesh = o3dex.get_knot_mesh()\n",
    "mesh.compute_vertex_normals()\n",
    "print(\n",
    "    f'The mesh has {len(mesh.vertices)} vertices and {len(mesh.triangles)} triangles'\n",
    ")\n",
    "o3d.visualization.draw_geometries([mesh], mesh_show_wireframe=True)\n",
    "mesh = mesh.subdivide_loop(number_of_iterations=1)\n",
    "print(\n",
    "    f'After subdivision it has {len(mesh.vertices)} vertices and {len(mesh.triangles)} triangles'\n",
    ")\n",
    "o3d.visualization.draw_geometries([mesh], mesh_show_wireframe=True)"
   ]
  },
  {
   "cell_type": "code",
   "execution_count": null,
   "metadata": {},
   "outputs": [],
   "source": []
  }
 ],
 "metadata": {
  "kernelspec": {
   "display_name": "Python 3",
   "language": "python",
   "name": "python3"
  },
  "language_info": {
   "codemirror_mode": {
    "name": "ipython",
    "version": 3
   },
   "file_extension": ".py",
   "mimetype": "text/x-python",
   "name": "python",
   "nbconvert_exporter": "python",
   "pygments_lexer": "ipython3",
   "version": "3.10.14"
  }
 },
 "nbformat": 4,
 "nbformat_minor": 2
}
