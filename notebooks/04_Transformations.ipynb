{
 "cells": [
  {
   "cell_type": "markdown",
   "metadata": {},
   "source": [
    "# Open3D Guide: 4. Transformations"
   ]
  },
  {
   "cell_type": "markdown",
   "metadata": {},
   "source": [
    "Source: [https://www.open3d.org/docs/latest/tutorial/Basic/transformation.html](https://www.open3d.org/docs/latest/tutorial/Basic/transformation.html)."
   ]
  },
  {
   "cell_type": "markdown",
   "metadata": {},
   "source": [
    "Summary of contents:\n",
    "\n",
    "- Translate: `mesh.translate()`\n",
    "- Rotate: `mesh.rotate()`\n",
    "  - `get_rotation_matrix_from_xyz`\n",
    "  - `get_rotation_matrix_from_axis_angle`\n",
    "  - `get_rotation_matrix_from_quaternion`\n",
    "- Scale: `mesh.scale()`\n",
    "- General (homogeneous) transformation: `mesh.transform()`"
   ]
  },
  {
   "cell_type": "code",
   "execution_count": 1,
   "metadata": {},
   "outputs": [],
   "source": [
    "import sys\n",
    "import os\n",
    "import copy\n",
    "\n",
    "# Add the directory containing 'examples' to the Python path\n",
    "notebook_directory = os.getcwd()\n",
    "parent_directory = os.path.dirname(notebook_directory)  # Parent directory\n",
    "sys.path.append(parent_directory)"
   ]
  },
  {
   "cell_type": "code",
   "execution_count": 2,
   "metadata": {},
   "outputs": [
    {
     "name": "stdout",
     "output_type": "stream",
     "text": [
      "Jupyter environment detected. Enabling Open3D WebVisualizer.\n",
      "[Open3D INFO] WebRTC GUI backend enabled.\n",
      "[Open3D INFO] WebRTCWindowSystem: HTTP handshake server disabled.\n"
     ]
    }
   ],
   "source": [
    "import open3d as o3d\n",
    "from examples import open3d_example as o3dex\n",
    "import numpy as np"
   ]
  },
  {
   "cell_type": "markdown",
   "metadata": {},
   "source": [
    "## Translate"
   ]
  },
  {
   "cell_type": "code",
   "execution_count": 3,
   "metadata": {},
   "outputs": [
    {
     "name": "stdout",
     "output_type": "stream",
     "text": [
      "Center of mesh: [0.05167549 0.05167549 0.05167549]\n",
      "Center of mesh tx: [1.35167549 0.05167549 0.05167549]\n",
      "Center of mesh ty: [0.05167549 1.35167549 0.05167549]\n"
     ]
    }
   ],
   "source": [
    "# Factory function which creates a mesh coordinate frame\n",
    "# Check other factory functions with help(o3d.geometry.TriangleMesh)\n",
    "mesh = o3d.geometry.TriangleMesh.create_coordinate_frame()\n",
    "# Translate mesh and deepcopy\n",
    "mesh_tx = copy.deepcopy(mesh).translate((1.3, 0, 0))\n",
    "mesh_ty = copy.deepcopy(mesh).translate((0, 1.3, 0))\n",
    "print(f'Center of mesh: {mesh.get_center()}')\n",
    "# The method get_center returns the mean of the TriangleMesh vertices.\n",
    "# That means that for a coordinate frame created at the origin [0,0,0],\n",
    "# get_center will return [0.05167549 0.05167549 0.05167549]\n",
    "print(f'Center of mesh tx: {mesh_tx.get_center()}')\n",
    "print(f'Center of mesh ty: {mesh_ty.get_center()}')\n",
    "o3d.visualization.draw_geometries([mesh, mesh_tx, mesh_ty])"
   ]
  },
  {
   "cell_type": "code",
   "execution_count": 5,
   "metadata": {},
   "outputs": [
    {
     "name": "stdout",
     "output_type": "stream",
     "text": [
      "Center of mesh: [0.05167549 0.05167549 0.05167549]\n",
      "Center of translated mesh: [2. 2. 2.]\n"
     ]
    }
   ],
   "source": [
    "# The method takes a second argument relative that is by default set to True.\n",
    "# If set to False, the center of the geometry is translated directly to the position specified\n",
    "# in the first argument.\n",
    "mesh = o3d.geometry.TriangleMesh.create_coordinate_frame()\n",
    "mesh_mv = copy.deepcopy(mesh).translate((2, 2, 2), relative=False)\n",
    "print(f'Center of mesh: {mesh.get_center()}')\n",
    "print(f'Center of translated mesh: {mesh_mv.get_center()}')\n",
    "o3d.visualization.draw_geometries([mesh, mesh_mv])"
   ]
  },
  {
   "cell_type": "markdown",
   "metadata": {},
   "source": [
    "## Rotation"
   ]
  },
  {
   "cell_type": "code",
   "execution_count": 6,
   "metadata": {},
   "outputs": [],
   "source": [
    "# We pass a rotation matrix R to rotate\n",
    "# There are many conversion functions to get R\n",
    "# - Convert from Euler angles with get_rotation_matrix_from_xyz (where xyz can also be of the form yzx, zxy, xzy, zyx, and yxz)\n",
    "# - Convert from Axis-angle representation with get_rotation_matrix_from_axis_angle\n",
    "# - Convert from Quaternions with get_rotation_matrix_from_quaternion\n",
    "mesh = o3d.geometry.TriangleMesh.create_coordinate_frame()\n",
    "mesh_r = copy.deepcopy(mesh)\n",
    "R = mesh.get_rotation_matrix_from_xyz((np.pi / 2, 0, np.pi / 4))\n",
    "mesh_r.rotate(R, center=(0, 0, 0))\n",
    "o3d.visualization.draw_geometries([mesh, mesh_r])"
   ]
  },
  {
   "cell_type": "code",
   "execution_count": 7,
   "metadata": {},
   "outputs": [],
   "source": [
    "# The function rotate has a second argument center that is by default set to True.\n",
    "# This indicates that the object is first centered prior to applying the rotation\n",
    "# and then moved back to its previous center. \n",
    "# If this argument is set to False, then the rotation will be applied directly, \n",
    "# such that the whole geometry is rotated around the coordinate center.\n",
    "# This implies that the mesh center can be changed after the rotation.\n",
    "mesh = o3d.geometry.TriangleMesh.create_coordinate_frame()\n",
    "mesh_r = copy.deepcopy(mesh).translate((2, 0, 0))\n",
    "mesh_r.rotate(mesh.get_rotation_matrix_from_xyz((np.pi / 2, 0, np.pi / 4)),\n",
    "              center=(0, 0, 0))\n",
    "o3d.visualization.draw_geometries([mesh, mesh_r])"
   ]
  },
  {
   "cell_type": "markdown",
   "metadata": {},
   "source": [
    "## Scale"
   ]
  },
  {
   "cell_type": "code",
   "execution_count": 8,
   "metadata": {},
   "outputs": [],
   "source": [
    "mesh = o3d.geometry.TriangleMesh.create_coordinate_frame()\n",
    "mesh_s = copy.deepcopy(mesh).translate((2, 0, 0))\n",
    "mesh_s.scale(0.5, center=mesh_s.get_center())\n",
    "o3d.visualization.draw_geometries([mesh, mesh_s])"
   ]
  },
  {
   "cell_type": "code",
   "execution_count": 9,
   "metadata": {},
   "outputs": [],
   "source": [
    "# The scale method also has a second argument center that\n",
    "# is set to True by default. If it is set to False,\n",
    "# then the object is not centered prior to scaling such that\n",
    "# the center of the object can move due to the scaling operation\n",
    "mesh = o3d.geometry.TriangleMesh.create_coordinate_frame()\n",
    "mesh_s = copy.deepcopy(mesh).translate((2, 1, 0))\n",
    "mesh_s.scale(0.5, center=(0, 0, 0))\n",
    "o3d.visualization.draw_geometries([mesh, mesh_s])"
   ]
  },
  {
   "cell_type": "markdown",
   "metadata": {},
   "source": [
    "## General (homogeneous) transformation"
   ]
  },
  {
   "cell_type": "code",
   "execution_count": 10,
   "metadata": {},
   "outputs": [
    {
     "name": "stdout",
     "output_type": "stream",
     "text": [
      "[[ 3.06161700e-17 -5.00000000e-01  8.66025404e-01  1.00000000e+00]\n",
      " [ 1.00000000e+00  6.12323400e-17  0.00000000e+00  1.30000000e+00]\n",
      " [-5.30287619e-17  8.66025404e-01  5.00000000e-01  0.00000000e+00]\n",
      " [ 0.00000000e+00  0.00000000e+00  0.00000000e+00  1.00000000e+00]]\n"
     ]
    }
   ],
   "source": [
    "# Open3D also supports a general transformation \n",
    "# defined by a 4×4 homogeneous transformation matrix using the method transform.\n",
    "mesh = o3d.geometry.TriangleMesh.create_coordinate_frame()\n",
    "T = np.eye(4)\n",
    "T[:3, :3] = mesh.get_rotation_matrix_from_xyz((0, np.pi / 3, np.pi / 2))\n",
    "T[0, 3] = 1\n",
    "T[1, 3] = 1.3\n",
    "print(T)\n",
    "mesh_t = copy.deepcopy(mesh).transform(T)\n",
    "o3d.visualization.draw_geometries([mesh, mesh_t])"
   ]
  },
  {
   "cell_type": "code",
   "execution_count": null,
   "metadata": {},
   "outputs": [],
   "source": []
  }
 ],
 "metadata": {
  "kernelspec": {
   "display_name": "Python 3",
   "language": "python",
   "name": "python3"
  },
  "language_info": {
   "codemirror_mode": {
    "name": "ipython",
    "version": 3
   },
   "file_extension": ".py",
   "mimetype": "text/x-python",
   "name": "python",
   "nbconvert_exporter": "python",
   "pygments_lexer": "ipython3",
   "version": "3.10.14"
  }
 },
 "nbformat": 4,
 "nbformat_minor": 2
}
