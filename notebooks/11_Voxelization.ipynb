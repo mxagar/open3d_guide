{
 "cells": [
  {
   "cell_type": "markdown",
   "metadata": {},
   "source": [
    "# Open3D Guide: 11. Voxelization"
   ]
  },
  {
   "cell_type": "markdown",
   "metadata": {},
   "source": [
    "Source: \n",
    "\n",
    "- Tutorial: [https://www.open3d.org/docs/latest/tutorial/Advanced/voxelization.html](https://www.open3d.org/docs/latest/tutorial/Advanced/voxelization.html).\n",
    "- [`open3d.geometry.VoxelGrid`](https://www.open3d.org/docs/latest/python_api/open3d.geometry.VoxelGrid.html#open3d.geometry.VoxelGrid).\n",
    "- [`open3d.geometry.Voxel`](https://www.open3d.org/docs/latest/python_api/open3d.geometry.Voxel.html#open3d.geometry.Voxel)\n",
    "\n",
    "Summary of contents:\n",
    "\n",
    "- A\n",
    "- B"
   ]
  },
  {
   "cell_type": "code",
   "execution_count": 1,
   "metadata": {},
   "outputs": [],
   "source": [
    "import sys\n",
    "import os\n",
    "import copy\n",
    "\n",
    "# Add the directory containing 'examples' to the Python path\n",
    "notebook_directory = os.getcwd()\n",
    "parent_directory = os.path.dirname(notebook_directory)  # Parent directory\n",
    "sys.path.append(parent_directory)"
   ]
  },
  {
   "cell_type": "code",
   "execution_count": 2,
   "metadata": {},
   "outputs": [
    {
     "name": "stdout",
     "output_type": "stream",
     "text": [
      "Jupyter environment detected. Enabling Open3D WebVisualizer.\n",
      "[Open3D INFO] WebRTC GUI backend enabled.\n",
      "[Open3D INFO] WebRTCWindowSystem: HTTP handshake server disabled.\n"
     ]
    }
   ],
   "source": [
    "import open3d as o3d\n",
    "import open3d.core as o3c\n",
    "from examples import open3d_example as o3dex\n",
    "import numpy as np\n",
    "import matplotlib.pyplot as plt"
   ]
  },
  {
   "cell_type": "markdown",
   "metadata": {},
   "source": [
    "## Voxelize from triangle mesh"
   ]
  },
  {
   "cell_type": "code",
   "execution_count": 3,
   "metadata": {},
   "outputs": [
    {
     "name": "stdout",
     "output_type": "stream",
     "text": [
      "Input mesh\n"
     ]
    }
   ],
   "source": [
    "# Get mesh\n",
    "print('Input mesh')\n",
    "mesh = o3dex.get_bunny_mesh()\n",
    "\n",
    "# Optional: Fit to unit cube\n",
    "#mesh.scale(\n",
    "#    1.0 / np.max(mesh.get_max_bound() - mesh.get_min_bound()),\n",
    "#    center=mesh.get_center()\n",
    "#)\n",
    "\n",
    "# Optional, for nice visualization\n",
    "mesh.compute_vertex_normals()\n",
    "\n",
    "# Visualize\n",
    "o3d.visualization.draw_geometries([mesh])"
   ]
  },
  {
   "cell_type": "code",
   "execution_count": 4,
   "metadata": {},
   "outputs": [
    {
     "name": "stdout",
     "output_type": "stream",
     "text": [
      "Voxelization\n"
     ]
    }
   ],
   "source": [
    "# See all the properties of VoxelGrid\n",
    "# https://www.open3d.org/docs/latest/python_api/open3d.geometry.VoxelGrid.html#open3d.geometry.VoxelGrid\n",
    "print('Voxelization')\n",
    "voxel_grid = o3d.geometry.VoxelGrid.create_from_triangle_mesh(\n",
    "    mesh,\n",
    "    voxel_size=0.001\n",
    ")\n",
    "o3d.visualization.draw_geometries([voxel_grid])"
   ]
  },
  {
   "cell_type": "markdown",
   "metadata": {},
   "source": [
    "## Voxels"
   ]
  },
  {
   "cell_type": "code",
   "execution_count": 5,
   "metadata": {},
   "outputs": [
    {
     "name": "stdout",
     "output_type": "stream",
     "text": [
      "grid_index:  [  4 106  80]\n",
      "color:  [0. 0. 0.]\n",
      "grid_index:  [110  17 107]\n",
      "color:  [0. 0. 0.]\n",
      "grid_index:  [72 93 80]\n",
      "color:  [0. 0. 0.]\n",
      "grid_index:  [ 64  77 100]\n",
      "color:  [0. 0. 0.]\n",
      "grid_index:  [129  41 101]\n",
      "color:  [0. 0. 0.]\n",
      "grid_index:  [  8 115  70]\n",
      "color:  [0. 0. 0.]\n",
      "grid_index:  [ 97  52 119]\n",
      "color:  [0. 0. 0.]\n",
      "grid_index:  [ 29 113  40]\n",
      "color:  [0. 0. 0.]\n",
      "grid_index:  [146  33  62]\n",
      "color:  [0. 0. 0.]\n",
      "grid_index:  [ 18 123  74]\n",
      "color:  [0. 0. 0.]\n",
      "grid_index:  [30  1 72]\n",
      "color:  [0. 0. 0.]\n",
      "grid_index:  [ 16 115 102]\n",
      "color:  [0. 0. 0.]\n"
     ]
    }
   ],
   "source": [
    "# Get OCCUPIED voxels: get_voxels()\n",
    "# Voxel: https://www.open3d.org/docs/latest/python_api/open3d.geometry.Voxel.html#open3d.geometry.Voxel\n",
    "# Voxel properties: grid_index (3,), color (3,)\n",
    "# NOTE: Voxels are not thought for setting values manually...\n",
    "for i, voxel in enumerate(voxel_grid.get_voxels()):\n",
    "    print(\"grid_index: \", voxel.grid_index) # an array if 3 ints\n",
    "    print(\"color: \", voxel.color) # an array of  floats; we can modify colors to display better!\n",
    "    if i > 10:\n",
    "        break"
   ]
  },
  {
   "cell_type": "markdown",
   "metadata": {},
   "source": [
    "## Voxel Cubes"
   ]
  },
  {
   "cell_type": "code",
   "execution_count": 6,
   "metadata": {},
   "outputs": [],
   "source": [
    "# Get the voxel size and origin for computation\n",
    "voxel_size = voxel_grid.voxel_size\n",
    "origin = voxel_grid.origin\n",
    "\n",
    "# Prepare to merge meshes\n",
    "mesh = o3d.geometry.TriangleMesh()\n",
    "for voxel in voxel_grid.get_voxels():\n",
    "    # Calculate the center of the voxel\n",
    "    voxel_center = origin + voxel.grid_index * voxel_size + voxel_size / 2.0\n",
    "    # Create a cube mesh for each voxel\n",
    "    cube = o3d.geometry.TriangleMesh.create_box(width=voxel_grid.voxel_size,\n",
    "                                                height=voxel_grid.voxel_size,\n",
    "                                                depth=voxel_grid.voxel_size)\n",
    "    cube.translate(voxel_center - np.array([voxel_grid.voxel_size / 2] * 3))\n",
    "    cube.paint_uniform_color([voxel_center[0] % 1, voxel_center[1] % 1, voxel_center[2] % 1])  # Set color\n",
    "    mesh += cube\n",
    "\n",
    "# Visualize the merged mesh\n",
    "o3d.visualization.draw_geometries([mesh])"
   ]
  },
  {
   "cell_type": "markdown",
   "metadata": {},
   "source": [
    "## Create a Voxelmap: A cartesian occupancy map"
   ]
  },
  {
   "cell_type": "code",
   "execution_count": 12,
   "metadata": {},
   "outputs": [
    {
     "name": "stdout",
     "output_type": "stream",
     "text": [
      "voxel_grid.min_bound: [-0.0951899  0.0324874 -0.0623736]\n",
      "voxel_grid.max_bound: [0.0618101 0.1874874 0.0596264]\n",
      "voxel_grid.voxel_size: 0.001\n",
      "AABB: AxisAlignedBoundingBox: min: (-0.0951899, 0.0324874, -0.0623736), max: (0.0618101, 0.187487, 0.0596264)\n",
      "Number of occupied voxels: 82999\n",
      "Number of total voxels: 2968870\n",
      "Voxel map shape: (157, 155, 122)\n",
      "Found solid voxels:  82999\n"
     ]
    }
   ],
   "source": [
    "# Get the extent of the voxel grid and compute dimensions\n",
    "min_bound = voxel_grid.get_min_bound()\n",
    "max_bound = voxel_grid.get_max_bound()\n",
    "voxel_size = voxel_grid.voxel_size\n",
    "aabb = voxel_grid.get_axis_aligned_bounding_box()\n",
    "print(f\"voxel_grid.min_bound: {min_bound}\")\n",
    "print(f\"voxel_grid.max_bound: {max_bound}\")\n",
    "print(f\"voxel_grid.voxel_size: {voxel_size}\")\n",
    "print(f\"AABB: {aabb}\")\n",
    "\n",
    "# Compute grid dimensions\n",
    "Nx = int((max_bound[0] - min_bound[0]) / voxel_size)\n",
    "Ny = int((max_bound[1] - min_bound[1]) / voxel_size)\n",
    "Nz = int((max_bound[2] - min_bound[2]) / voxel_size)\n",
    "print(f\"Number of occupied voxels: {len(voxel_grid.get_voxels())}\")\n",
    "print(f\"Number of total voxels: {Nx*Ny*Nz}\")\n",
    "\n",
    "# Create an empty numpy array for the voxel map\n",
    "voxel_map = np.zeros((Nx, Ny, Nz), dtype=bool)\n",
    "\n",
    "# Populate the voxel map\n",
    "solid_voxel_count = 0\n",
    "for voxel in voxel_grid.get_voxels():\n",
    "    # NOTE: a voxel_index is a a tuple (3,) with ints\n",
    "    # and we get a voxel_index for each occupied voxel!\n",
    "    index = voxel.grid_index\n",
    "    if 0 <= index[0] < Nx and 0 <= index[1] < Ny and 0 <= index[2] < Nz:\n",
    "        voxel_map[index] = True\n",
    "        solid_voxel_count += 1\n",
    "\n",
    "# Output the shape of the voxel map\n",
    "print(\"Voxel map shape:\", voxel_map.shape)\n",
    "print(\"Found solid voxels: \", solid_voxel_count)"
   ]
  },
  {
   "cell_type": "code",
   "execution_count": 16,
   "metadata": {},
   "outputs": [],
   "source": [
    "# Now, we check that voxel_map is correct by plotting the voxel centers as points\n",
    "\n",
    "# Create a point cloud\n",
    "pcd = o3d.geometry.PointCloud()\n",
    "\n",
    "# List to hold points and colors\n",
    "points = []\n",
    "colors = []\n",
    "\n",
    "# Iterate through the voxel map\n",
    "# Faster alternative, but without using voxel_map\n",
    "# for voxel in voxel_grid.get_voxels():\n",
    "#     point = voxel_grid.get_voxel_center_coordinate(voxel.grid_index)\n",
    "#     points.append(point)\n",
    "#     colors.append([1, 0, 0])  # Red color for occupied voxels\n",
    "for i in range(Nx):\n",
    "    for j in range(Ny):\n",
    "        for k in range(Nz):\n",
    "            if voxel_map[i, j, k]:  # Check if the voxel is occupied\n",
    "                # Compute the center of the voxel\n",
    "                # The manual computation with min_bound is WRONG?!\n",
    "                # center_x = min_bound[0] + (i * voxel_size) + (voxel_size*0.5)\n",
    "                # center_y = min_bound[1] + (j * voxel_size) + (voxel_size*0.5)\n",
    "                # center_z = min_bound[2] + (k * voxel_size) + (voxel_size*0.5)\n",
    "                (center_x, center_y, center_z) = voxel_grid.get_voxel_center_coordinate(np.asarray([i,j,k]))\n",
    "                points.append([center_x, center_y, center_z])\n",
    "                colors.append([1, 0, 0])\n",
    "                \n",
    "# Convert lists to Open3D vectors\n",
    "pcd.points = o3d.utility.Vector3dVector(points)\n",
    "pcd.colors = o3d.utility.Vector3dVector(colors)\n",
    "\n",
    "# Visualize the point cloud\n",
    "o3d.visualization.draw_geometries([pcd])"
   ]
  },
  {
   "cell_type": "code",
   "execution_count": null,
   "metadata": {},
   "outputs": [],
   "source": []
  }
 ],
 "metadata": {
  "kernelspec": {
   "display_name": "Python 3",
   "language": "python",
   "name": "python3"
  },
  "language_info": {
   "codemirror_mode": {
    "name": "ipython",
    "version": 3
   },
   "file_extension": ".py",
   "mimetype": "text/x-python",
   "name": "python",
   "nbconvert_exporter": "python",
   "pygments_lexer": "ipython3",
   "version": "3.10.14"
  }
 },
 "nbformat": 4,
 "nbformat_minor": 2
}
