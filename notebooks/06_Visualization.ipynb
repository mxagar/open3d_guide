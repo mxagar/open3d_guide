{
 "cells": [
  {
   "cell_type": "markdown",
   "metadata": {},
   "source": [
    "# Open3D Guide: 6. Visualization"
   ]
  },
  {
   "cell_type": "markdown",
   "metadata": {},
   "source": [
    "Source: [https://www.open3d.org/docs/latest/tutorial/Basic/visualization.html](https://www.open3d.org/docs/latest/tutorial/Basic/visualization.html)."
   ]
  },
  {
   "cell_type": "markdown",
   "metadata": {},
   "source": [
    "Summary of contents:\n",
    "\n",
    "- Function `draw_geometries`\n",
    "- Store viewpoint: `Ctrl+C`\n",
    "- Geometry primitives:\n",
    "  - `o3d.geometry.TriangleMesh.create_box`\n",
    "  - `o3d.geometry.TriangleMesh.create_sphere`\n",
    "  - `o3d.geometry.TriangleMesh.create_cylinder`\n",
    "  - `o3d.geometry.TriangleMesh.create_coordinate_frame`\n",
    "- Drawing line sets: `o3d.geometry.LineSet`\n",
    "\n",
    ":warning: Mac/Apple M1 wheels (latest version to date 0.16.1) cause an OpenGL error when we launch the visualization; if the code is in a script it is not that big of an issue from the UX perspective, but if the code is on a notebook, the kernel crashes and it needs to be restarted.\n",
    "\n",
    "Github issue: [isl-org/Open3D/issues/1673](https://github.com/isl-org/Open3D/issues/1673)."
   ]
  },
  {
   "cell_type": "code",
   "execution_count": 2,
   "metadata": {},
   "outputs": [],
   "source": [
    "import sys\n",
    "import os\n",
    "import copy\n",
    "\n",
    "# Add the directory containing 'examples' to the Python path\n",
    "notebook_directory = os.getcwd()\n",
    "parent_directory = os.path.dirname(notebook_directory)  # Parent directory\n",
    "sys.path.append(parent_directory)"
   ]
  },
  {
   "cell_type": "code",
   "execution_count": 3,
   "metadata": {},
   "outputs": [
    {
     "name": "stdout",
     "output_type": "stream",
     "text": [
      "Jupyter environment detected. Enabling Open3D WebVisualizer.\n",
      "[Open3D INFO] WebRTC GUI backend enabled.\n",
      "[Open3D INFO] WebRTCWindowSystem: HTTP handshake server disabled.\n"
     ]
    }
   ],
   "source": [
    "import open3d as o3d\n",
    "from examples import open3d_example as o3dex\n",
    "import numpy as np\n",
    "import matplotlib.pyplot as plt"
   ]
  },
  {
   "cell_type": "markdown",
   "metadata": {},
   "source": [
    "## Function draw_geometries"
   ]
  },
  {
   "cell_type": "code",
   "execution_count": 4,
   "metadata": {},
   "outputs": [
    {
     "name": "stdout",
     "output_type": "stream",
     "text": [
      "Load a ply point cloud, print it, and render it\n"
     ]
    }
   ],
   "source": [
    "# The function draw_geometries can display a list of geometries:\n",
    "# PointCloud, TriangleMesh, or Image\n",
    "# A new visualization window is opened\n",
    "# Keys (press H to obtain list):\n",
    "#  [/]          : Increase/decrease field of view.\n",
    "#  R            : Reset view point.\n",
    "#  Ctrl/Cmd + C : Copy current view status into the clipboard.\n",
    "#  Ctrl/Cmd + V : Paste view status from clipboard.\n",
    "#  Q, Esc       : Exit window.\n",
    "#  H            : Print help message.\n",
    "#  P, PrtScn    : Take a screen capture.\n",
    "#  D            : Take a depth capture.\n",
    "#  O            : Take a capture of current rendering settings.\n",
    "# IMPORTANT: Press Q to exit the viewer; the notebook cell waits for that!\n",
    "# In addition to draw_geometries, Open3D has a set of sibling functions with more advanced functionality:\n",
    "# - draw_geometries_with_custom_animation allows the programmer\n",
    "#   to define a custom view trajectory and play an animation in the GUI.\n",
    "# - draw_geometries_with_animation_callback and draw_geometries_with_key_callback \n",
    "#   accept Python callback functions as input\n",
    "print(\"Load a ply point cloud, print it, and render it\")\n",
    "pcd = o3d.io.read_point_cloud(\"../models/fragment.ply\")\n",
    "o3d.visualization.draw_geometries([pcd],\n",
    "                                  zoom=0.3412,\n",
    "                                  front=[0.4257, -0.2125, -0.8795],\n",
    "                                  lookat=[2.6172, 2.0475, 1.532],\n",
    "                                  up=[-0.0694, -0.9768, 0.2024])"
   ]
  },
  {
   "cell_type": "markdown",
   "metadata": {},
   "source": [
    "## Store viewpoint"
   ]
  },
  {
   "cell_type": "markdown",
   "metadata": {},
   "source": [
    "The viewpoint of a scene can be stored with `Ctrl+C`:\n",
    "\n",
    "```\n",
    "draw_geometries > Move to desired view > Ctrl+C (JSON stored to clipboard) > Ctrl+V (Paste to file)\n",
    "```"
   ]
  },
  {
   "cell_type": "markdown",
   "metadata": {},
   "source": [
    "```json\n",
    "{\n",
    "\t\"class_name\" : \"ViewTrajectory\",\n",
    "\t\"interval\" : 29,\n",
    "\t\"is_loop\" : false,\n",
    "\t\"trajectory\" : \n",
    "\t[\n",
    "\t\t{\n",
    "\t\t\t\"boundingbox_max\" : [ 3.9660897254943848, 2.427476167678833, 2.55859375 ],\n",
    "\t\t\t\"boundingbox_min\" : [ 0.55859375, 0.83203125, 0.56663715839385986 ],\n",
    "\t\t\t\"field_of_view\" : 60.0,\n",
    "\t\t\t\"front\" : [ -0.13527958168057388, -0.27056316159846239, -0.9531500460925203 ],\n",
    "\t\t\t\"lookat\" : [ 2.6172, 2.0474999999999999, 1.532 ],\n",
    "\t\t\t\"up\" : [ 0.29380236203055549, -0.92968081059563346, 0.22220207576778483 ],\n",
    "\t\t\t\"zoom\" : 0.58120000000000016\n",
    "\t\t}\n",
    "\t],\n",
    "\t\"version_major\" : 1,\n",
    "\t\"version_minor\" : 0\n",
    "}\n",
    "```"
   ]
  },
  {
   "cell_type": "markdown",
   "metadata": {},
   "source": [
    "## Geometry Primitives"
   ]
  },
  {
   "cell_type": "code",
   "execution_count": 5,
   "metadata": {},
   "outputs": [
    {
     "name": "stdout",
     "output_type": "stream",
     "text": [
      "Let's define some primitives\n"
     ]
    }
   ],
   "source": [
    "print(\"Let's define some primitives\")\n",
    "mesh_box = o3d.geometry.TriangleMesh.create_box(width=1.0,\n",
    "                                                height=1.0,\n",
    "                                                depth=1.0)\n",
    "mesh_box.compute_vertex_normals()\n",
    "mesh_box.paint_uniform_color([0.9, 0.1, 0.1])\n",
    "mesh_sphere = o3d.geometry.TriangleMesh.create_sphere(radius=1.0)\n",
    "mesh_sphere.compute_vertex_normals()\n",
    "mesh_sphere.paint_uniform_color([0.1, 0.1, 0.7])\n",
    "mesh_cylinder = o3d.geometry.TriangleMesh.create_cylinder(radius=0.3,\n",
    "                                                          height=4.0)\n",
    "mesh_cylinder.compute_vertex_normals()\n",
    "mesh_cylinder.paint_uniform_color([0.1, 0.9, 0.1])\n",
    "mesh_frame = o3d.geometry.TriangleMesh.create_coordinate_frame(\n",
    "    size=0.6, origin=[-2, -2, -2])"
   ]
  },
  {
   "cell_type": "code",
   "execution_count": 6,
   "metadata": {},
   "outputs": [
    {
     "name": "stdout",
     "output_type": "stream",
     "text": [
      "We draw a few primitives using collection.\n",
      "We draw a few primitives using + operator of mesh.\n"
     ]
    }
   ],
   "source": [
    "# draw_geometries takes a list of geometries and renders them all together (recommended).\n",
    "# Alternatively, TriangleMesh supports a + operator to combine multiple meshes into one.\n",
    "print(\"We draw a few primitives using collection.\")\n",
    "o3d.visualization.draw_geometries(\n",
    "    [mesh_box, mesh_sphere, mesh_cylinder, mesh_frame])\n",
    "\n",
    "print(\"We draw a few primitives using + operator of mesh.\")\n",
    "o3d.visualization.draw_geometries(\n",
    "    [mesh_box + mesh_sphere + mesh_cylinder + mesh_frame])"
   ]
  },
  {
   "cell_type": "markdown",
   "metadata": {},
   "source": [
    "## Draw a line set"
   ]
  },
  {
   "cell_type": "code",
   "execution_count": 8,
   "metadata": {},
   "outputs": [
    {
     "name": "stdout",
     "output_type": "stream",
     "text": [
      "Let's draw a box using o3d.geometry.LineSet.\n"
     ]
    }
   ],
   "source": [
    "print(\"Let's draw a box using o3d.geometry.LineSet.\")\n",
    "points = [\n",
    "    [0, 0, 0],\n",
    "    [1, 0, 0],\n",
    "    [0, 1, 0],\n",
    "    [1, 1, 0],\n",
    "    [0, 0, 1],\n",
    "    [1, 0, 1],\n",
    "    [0, 1, 1],\n",
    "    [1, 1, 1],\n",
    "]\n",
    "lines = [\n",
    "    [0, 1],\n",
    "    [0, 2],\n",
    "    [1, 3],\n",
    "    [2, 3],\n",
    "    [4, 5],\n",
    "    [4, 6],\n",
    "    [5, 7],\n",
    "    [6, 7],\n",
    "    [0, 4],\n",
    "    [1, 5],\n",
    "    [2, 6],\n",
    "    [3, 7],\n",
    "]\n",
    "colors = [[1, 0, 0] for i in range(len(lines))]\n",
    "line_set = o3d.geometry.LineSet(\n",
    "    points=o3d.utility.Vector3dVector(points),\n",
    "    lines=o3d.utility.Vector2iVector(lines),\n",
    ")\n",
    "line_set.colors = o3d.utility.Vector3dVector(colors)\n",
    "o3d.visualization.draw_geometries([line_set])"
   ]
  },
  {
   "cell_type": "code",
   "execution_count": null,
   "metadata": {},
   "outputs": [],
   "source": []
  }
 ],
 "metadata": {
  "kernelspec": {
   "display_name": "Python 3",
   "language": "python",
   "name": "python3"
  },
  "language_info": {
   "codemirror_mode": {
    "name": "ipython",
    "version": 3
   },
   "file_extension": ".py",
   "mimetype": "text/x-python",
   "name": "python",
   "nbconvert_exporter": "python",
   "pygments_lexer": "ipython3",
   "version": "3.10.14"
  }
 },
 "nbformat": 4,
 "nbformat_minor": 2
}
