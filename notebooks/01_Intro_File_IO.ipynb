{
 "cells": [
  {
   "cell_type": "markdown",
   "metadata": {},
   "source": [
    "# Open3D: 1. File I/O and Basic Visualization"
   ]
  },
  {
   "cell_type": "markdown",
   "metadata": {},
   "source": [
    "Source: [https://www.open3d.org/docs/latest/tutorial/Basic/file_io.html](https://www.open3d.org/docs/latest/tutorial/Basic/file_io.html).\n",
    "\n",
    "Summary of contents:\n",
    "\n",
    "- Load pointclouds, meshes, images\n",
    "- Visualize in new window and in notebook\n",
    "- Save files with desired formats\n",
    "- Download models from the internet with `o3d.data`: [https://www.open3d.org/docs/release/python_api/open3d.data.html](https://www.open3d.org/docs/release/python_api/open3d.data.html)"
   ]
  },
  {
   "cell_type": "code",
   "execution_count": null,
   "metadata": {},
   "outputs": [],
   "source": [
    "import sys\n",
    "import os\n",
    "\n",
    "# Add the directory containing 'examples' to the Python path\n",
    "notebook_directory = os.getcwd()\n",
    "parent_directory = os.path.dirname(notebook_directory)  # Parent directory\n",
    "sys.path.append(parent_directory)"
   ]
  },
  {
   "cell_type": "code",
   "execution_count": 1,
   "metadata": {},
   "outputs": [
    {
     "name": "stdout",
     "output_type": "stream",
     "text": [
      "Jupyter environment detected. Enabling Open3D WebVisualizer.\n",
      "[Open3D INFO] WebRTC GUI backend enabled.\n",
      "[Open3D INFO] WebRTCWindowSystem: HTTP handshake server disabled.\n"
     ]
    }
   ],
   "source": [
    "import open3d as o3d\n",
    "from examples import open3d_example as o3dex\n",
    "import numpy as np"
   ]
  },
  {
   "cell_type": "markdown",
   "metadata": {},
   "source": [
    "## Intro"
   ]
  },
  {
   "cell_type": "code",
   "execution_count": 33,
   "metadata": {},
   "outputs": [],
   "source": [
    "# Load a ply point cloud, print it, and render it\n",
    "# File is downloaded to ~/open3d_data/extract/PLYPointCloud/fragment.ply/pcd\n",
    "ply_point_cloud = o3d.data.PLYPointCloud()\n",
    "pcd_point_cloud = o3d.data.PCDPointCloud()\n",
    "pcd = o3d.io.read_point_cloud(ply_point_cloud.path)"
   ]
  },
  {
   "cell_type": "code",
   "execution_count": 34,
   "metadata": {},
   "outputs": [
    {
     "name": "stdout",
     "output_type": "stream",
     "text": [
      "PointCloud with 196133 points.\n",
      "[[0.65234375 0.84686458 2.37890625]\n",
      " [0.65234375 0.83984375 2.38430572]\n",
      " [0.66737998 0.83984375 2.37890625]\n",
      " ...\n",
      " [2.00839925 2.39453125 1.88671875]\n",
      " [2.00390625 2.39488506 1.88671875]\n",
      " [2.00390625 2.39453125 1.88793314]]\n"
     ]
    }
   ],
   "source": [
    "# Here, the same file is opened locally\n",
    "pcd = o3d.io.read_point_cloud(\"../models/fragment.ply\")\n",
    "print(pcd) # 196133 points\n",
    "print(np.asarray(pcd.points))"
   ]
  },
  {
   "cell_type": "code",
   "execution_count": 21,
   "metadata": {},
   "outputs": [
    {
     "name": "stdout",
     "output_type": "stream",
     "text": [
      "Help on built-in function draw_geometries in module open3d.cpu.pybind.visualization:\n",
      "\n",
      "draw_geometries(...) method of builtins.PyCapsule instance\n",
      "    draw_geometries(*args, **kwargs)\n",
      "    Overloaded function.\n",
      "    \n",
      "    \n",
      "    1. draw_geometries(geometry_list, window_name='Open3D', width=1920, height=1080, left=50, top=50, point_show_normal=False, mesh_show_wireframe=False, mesh_show_back_face=False)\n",
      "        Function to draw a list of geometry.Geometry objects\n",
      "    \n",
      "    Args:\n",
      "        geometry_list (List[open3d.geometry.Geometry]): List of geometries to be visualized.\n",
      "        window_name (str, optional, default='Open3D'): The displayed title of the visualization window.\n",
      "        width (int, optional, default=1920): The width of the visualization window.\n",
      "        height (int, optional, default=1080): The height of the visualization window.\n",
      "        left (int, optional, default=50): The left margin of the visualization window.\n",
      "        top (int, optional, default=50): The top margin of the visualization window.\n",
      "        point_show_normal (bool, optional, default=False): Visualize point normals if set to true.\n",
      "        mesh_show_wireframe (bool, optional, default=False): Visualize mesh wireframe if set to true.\n",
      "        mesh_show_back_face (bool, optional, default=False): Visualize also the back face of the mesh triangles.\n",
      "    \n",
      "    Returns:\n",
      "        None\n",
      "    \n",
      "    2. draw_geometries(geometry_list, window_name='Open3D', width=1920, height=1080, left=50, top=50, point_show_normal=False, mesh_show_wireframe=False, mesh_show_back_face=False, lookat, up, front, zoom)\n",
      "        Function to draw a list of geometry.Geometry objects\n",
      "    \n",
      "    Args:\n",
      "        geometry_list (List[open3d.geometry.Geometry]): List of geometries to be visualized.\n",
      "        window_name (str, optional, default='Open3D'): The displayed title of the visualization window.\n",
      "        width (int, optional, default=1920): The width of the visualization window.\n",
      "        height (int, optional, default=1080): The height of the visualization window.\n",
      "        left (int, optional, default=50): The left margin of the visualization window.\n",
      "        top (int, optional, default=50): The top margin of the visualization window.\n",
      "        point_show_normal (bool, optional, default=False): Visualize point normals if set to true.\n",
      "        mesh_show_wireframe (bool, optional, default=False): Visualize mesh wireframe if set to true.\n",
      "        mesh_show_back_face (bool, optional, default=False): Visualize also the back face of the mesh triangles.\n",
      "        lookat (numpy.ndarray[numpy.float64[3, 1]]): The lookat vector of the camera.\n",
      "        up (numpy.ndarray[numpy.float64[3, 1]]): The up vector of the camera.\n",
      "        front (numpy.ndarray[numpy.float64[3, 1]]): The front vector of the camera.\n",
      "        zoom (float): The zoom of the camera.\n",
      "    \n",
      "    Returns:\n",
      "        None\n",
      "\n"
     ]
    }
   ],
   "source": [
    "# We can inspect the docstring of each function with help()\n",
    "help(o3d.visualization.draw_geometries)"
   ]
  },
  {
   "cell_type": "code",
   "execution_count": 35,
   "metadata": {},
   "outputs": [],
   "source": [
    "# A new visualization window is opened\n",
    "# Keys:\n",
    "#  [/]          : Increase/decrease field of view.\n",
    "#  R            : Reset view point.\n",
    "#  Ctrl/Cmd + C : Copy current view status into the clipboard.\n",
    "#  Ctrl/Cmd + V : Paste view status from clipboard.\n",
    "#  Q, Esc       : Exit window.\n",
    "#  H            : Print help message.\n",
    "#  P, PrtScn    : Take a screen capture.\n",
    "#  D            : Take a depth capture.\n",
    "#  O            : Take a capture of current rendering settings.\n",
    "# IMPORTANT: Press Q to exit the viewer; the notebook cell waits for that!\n",
    "o3d.visualization.draw_geometries([pcd],\n",
    "                                  zoom=0.3412,\n",
    "                                  front=[0.4257, -0.2125, -0.8795],\n",
    "                                  lookat=[2.6172, 2.0475, 1.532],\n",
    "                                  up=[-0.0694, -0.9768, 0.2024])"
   ]
  },
  {
   "cell_type": "code",
   "execution_count": 17,
   "metadata": {},
   "outputs": [
    {
     "data": {
      "application/vnd.jupyter.widget-view+json": {
       "model_id": "502e3a8e5ec74219bf9838c6d35036cf",
       "version_major": 2,
       "version_minor": 0
      },
      "text/plain": [
       "WebVisualizer(window_uid='window_3')"
      ]
     },
     "metadata": {},
     "output_type": "display_data"
    }
   ],
   "source": [
    "# In-Notebook web visualizer (but with a worse quality)\n",
    "o3d.web_visualizer.draw(pcd,                                  \n",
    "                        lookat=[2.6172, 2.0475, 1.532],\n",
    "                        up=[-0.0694, -0.9768, 0.2024])"
   ]
  },
  {
   "cell_type": "code",
   "execution_count": 37,
   "metadata": {},
   "outputs": [
    {
     "name": "stdout",
     "output_type": "stream",
     "text": [
      "Testing IO for point cloud ...\n",
      "PointCloud with 113662 points.\n"
     ]
    },
    {
     "data": {
      "text/plain": [
       "True"
      ]
     },
     "execution_count": 37,
     "metadata": {},
     "output_type": "execute_result"
    }
   ],
   "source": [
    "print(\"Testing IO for point cloud ...\")\n",
    "pcd = o3d.io.read_point_cloud(\"../models/fragment.pcd\")\n",
    "print(pcd)\n",
    "# Save file\n",
    "# The format is passed in the extension, or, optionally in the argument format='xyz'\n",
    "# Supported formats: \n",
    "# xyz: [x, y, z]\n",
    "# xyzn: [x, y, z, nx, ny, nz]\n",
    "# xyzrgb: [x, y, z, r, g, b]\n",
    "# pts: [x, y, z, i, r, g, b]\n",
    "# ply\n",
    "# pcd\n",
    "o3d.io.write_point_cloud(\"copy_of_fragment.pcd\", pcd)\n",
    " "
   ]
  },
  {
   "cell_type": "markdown",
   "metadata": {},
   "source": [
    "## Mesh"
   ]
  },
  {
   "cell_type": "code",
   "execution_count": 39,
   "metadata": {},
   "outputs": [
    {
     "name": "stdout",
     "output_type": "stream",
     "text": [
      "Testing IO for meshes ...\n",
      "TriangleMesh with 1966 points and 968 triangles.\n"
     ]
    },
    {
     "data": {
      "text/plain": [
       "True"
      ]
     },
     "execution_count": 39,
     "metadata": {},
     "output_type": "execute_result"
    }
   ],
   "source": [
    "print(\"Testing IO for meshes ...\")\n",
    "mesh = o3d.io.read_triangle_mesh(\"../models/monkey.ply\")\n",
    "print(mesh)\n",
    "# Save file\n",
    "# The format is passed in the extension\n",
    "# Supported formats: \n",
    "# ply, stl, obj, off, gltf/glb\n",
    "o3d.io.write_triangle_mesh(\"copy_monkey.ply\", mesh)"
   ]
  },
  {
   "cell_type": "markdown",
   "metadata": {},
   "source": [
    "## Image"
   ]
  },
  {
   "cell_type": "code",
   "execution_count": 40,
   "metadata": {},
   "outputs": [
    {
     "name": "stdout",
     "output_type": "stream",
     "text": [
      "Testing IO for images ...\n",
      "Image of size 220x220, with 3 channels.\n",
      "Use numpy.asarray to access buffer data.\n"
     ]
    },
    {
     "data": {
      "text/plain": [
       "True"
      ]
     },
     "execution_count": 40,
     "metadata": {},
     "output_type": "execute_result"
    }
   ],
   "source": [
    "print(\"Testing IO for images ...\")\n",
    "img = o3d.io.read_image(\"../models/lenna.png\")\n",
    "print(img)\n",
    "# Save file\n",
    "# Supported formats: JPG, PNG\n",
    "o3d.io.write_image(\"copy_of_lena.jpg\", img)"
   ]
  },
  {
   "cell_type": "markdown",
   "metadata": {},
   "source": [
    "## Data"
   ]
  },
  {
   "cell_type": "markdown",
   "metadata": {},
   "source": [
    "We can download data using `o3d.data`; a list of all possible models is provided here:\n",
    "\n",
    "[https://www.open3d.org/docs/release/python_api/open3d.data.html](https://www.open3d.org/docs/release/python_api/open3d.data.html)"
   ]
  },
  {
   "cell_type": "code",
   "execution_count": 18,
   "metadata": {},
   "outputs": [],
   "source": [
    "armadillo = o3d.data.ArmadilloMesh()\n",
    "armadillo_mesh = o3d.io.read_triangle_mesh(armadillo.path)\n",
    "bunny = o3d.data.BunnyMesh()\n",
    "bunny_mesh = o3d.io.read_triangle_mesh(bunny.path)"
   ]
  },
  {
   "cell_type": "code",
   "execution_count": 20,
   "metadata": {},
   "outputs": [
    {
     "name": "stdout",
     "output_type": "stream",
     "text": [
      "TriangleMesh with 35947 points and 69451 triangles.\n"
     ]
    }
   ],
   "source": [
    "# Visualize the mesh\n",
    "print(bunny_mesh)\n",
    "o3d.visualization.draw_geometries([bunny_mesh], window_name='3D Mesh Visualization')"
   ]
  },
  {
   "cell_type": "code",
   "execution_count": null,
   "metadata": {},
   "outputs": [],
   "source": []
  }
 ],
 "metadata": {
  "kernelspec": {
   "display_name": "Python 3",
   "language": "python",
   "name": "python3"
  },
  "language_info": {
   "codemirror_mode": {
    "name": "ipython",
    "version": 3
   },
   "file_extension": ".py",
   "mimetype": "text/x-python",
   "name": "python",
   "nbconvert_exporter": "python",
   "pygments_lexer": "ipython3",
   "version": "3.10.14"
  }
 },
 "nbformat": 4,
 "nbformat_minor": 2
}
