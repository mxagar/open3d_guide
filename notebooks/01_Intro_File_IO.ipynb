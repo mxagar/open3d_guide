{
 "cells": [
  {
   "cell_type": "markdown",
   "metadata": {},
   "source": [
    "# Open3D: Introduction"
   ]
  },
  {
   "cell_type": "code",
   "execution_count": 36,
   "metadata": {},
   "outputs": [],
   "source": [
    "import open3d as o3d\n",
    "import numpy as np"
   ]
  },
  {
   "cell_type": "markdown",
   "metadata": {},
   "source": [
    "## 1. File I/O and Basic Visualization"
   ]
  },
  {
   "cell_type": "markdown",
   "metadata": {},
   "source": [
    "### Intro"
   ]
  },
  {
   "cell_type": "code",
   "execution_count": 33,
   "metadata": {},
   "outputs": [],
   "source": [
    "# Load a ply point cloud, print it, and render it\n",
    "# File is downloaded to ~/open3d_data/extract/PLYPointCloud/fragment.ply/pcd\n",
    "ply_point_cloud = o3d.data.PLYPointCloud()\n",
    "pcd_point_cloud = o3d.data.PCDPointCloud()\n",
    "pcd = o3d.io.read_point_cloud(ply_point_cloud.path)"
   ]
  },
  {
   "cell_type": "code",
   "execution_count": 34,
   "metadata": {},
   "outputs": [
    {
     "name": "stdout",
     "output_type": "stream",
     "text": [
      "PointCloud with 196133 points.\n",
      "[[0.65234375 0.84686458 2.37890625]\n",
      " [0.65234375 0.83984375 2.38430572]\n",
      " [0.66737998 0.83984375 2.37890625]\n",
      " ...\n",
      " [2.00839925 2.39453125 1.88671875]\n",
      " [2.00390625 2.39488506 1.88671875]\n",
      " [2.00390625 2.39453125 1.88793314]]\n"
     ]
    }
   ],
   "source": [
    "# Here, the same file is opened locally\n",
    "pcd = o3d.io.read_point_cloud(\"../models/fragment.ply\")\n",
    "print(pcd) # 196133 points\n",
    "print(np.asarray(pcd.points))"
   ]
  },
  {
   "cell_type": "code",
   "execution_count": 35,
   "metadata": {},
   "outputs": [],
   "source": [
    "# A new visualization window is opened\n",
    "# Keys:\n",
    "#  [/]          : Increase/decrease field of view.\n",
    "#  R            : Reset view point.\n",
    "#  Ctrl/Cmd + C : Copy current view status into the clipboard.\n",
    "#  Ctrl/Cmd + V : Paste view status from clipboard.\n",
    "#  Q, Esc       : Exit window.\n",
    "#  H            : Print help message.\n",
    "#  P, PrtScn    : Take a screen capture.\n",
    "#  D            : Take a depth capture.\n",
    "#  O            : Take a capture of current rendering settings.\n",
    "o3d.visualization.draw_geometries([pcd],\n",
    "                                  zoom=0.3412,\n",
    "                                  front=[0.4257, -0.2125, -0.8795],\n",
    "                                  lookat=[2.6172, 2.0475, 1.532],\n",
    "                                  up=[-0.0694, -0.9768, 0.2024])"
   ]
  },
  {
   "cell_type": "code",
   "execution_count": 17,
   "metadata": {},
   "outputs": [
    {
     "data": {
      "application/vnd.jupyter.widget-view+json": {
       "model_id": "502e3a8e5ec74219bf9838c6d35036cf",
       "version_major": 2,
       "version_minor": 0
      },
      "text/plain": [
       "WebVisualizer(window_uid='window_3')"
      ]
     },
     "metadata": {},
     "output_type": "display_data"
    }
   ],
   "source": [
    "# In-Notebook web visualizer (but with a worse quality)\n",
    "o3d.web_visualizer.draw(pcd,                                  \n",
    "                        lookat=[2.6172, 2.0475, 1.532],\n",
    "                        up=[-0.0694, -0.9768, 0.2024])"
   ]
  },
  {
   "cell_type": "code",
   "execution_count": 37,
   "metadata": {},
   "outputs": [
    {
     "name": "stdout",
     "output_type": "stream",
     "text": [
      "Testing IO for point cloud ...\n",
      "PointCloud with 113662 points.\n"
     ]
    },
    {
     "data": {
      "text/plain": [
       "True"
      ]
     },
     "execution_count": 37,
     "metadata": {},
     "output_type": "execute_result"
    }
   ],
   "source": [
    "print(\"Testing IO for point cloud ...\")\n",
    "pcd = o3d.io.read_point_cloud(\"../models/fragment.pcd\")\n",
    "print(pcd)\n",
    "# Save file\n",
    "# The format is passed in the extension, or, optionally in the argument format='xyz'\n",
    "# Supported formats: \n",
    "# xyz: [x, y, z]\n",
    "# xyzn: [x, y, z, nx, ny, nz]\n",
    "# xyzrgb: [x, y, z, r, g, b]\n",
    "# pts: [x, y, z, i, r, g, b]\n",
    "# ply\n",
    "# pcd\n",
    "o3d.io.write_point_cloud(\"copy_of_fragment.pcd\", pcd)\n",
    " "
   ]
  },
  {
   "cell_type": "markdown",
   "metadata": {},
   "source": [
    "### Mesh"
   ]
  },
  {
   "cell_type": "code",
   "execution_count": 39,
   "metadata": {},
   "outputs": [
    {
     "name": "stdout",
     "output_type": "stream",
     "text": [
      "Testing IO for meshes ...\n",
      "TriangleMesh with 1966 points and 968 triangles.\n"
     ]
    },
    {
     "data": {
      "text/plain": [
       "True"
      ]
     },
     "execution_count": 39,
     "metadata": {},
     "output_type": "execute_result"
    }
   ],
   "source": [
    "print(\"Testing IO for meshes ...\")\n",
    "mesh = o3d.io.read_triangle_mesh(\"../models/monkey.ply\")\n",
    "print(mesh)\n",
    "# Save file\n",
    "# The format is passed in the extension\n",
    "# Supported formats: \n",
    "# ply, stl, obj, off, gltf/glb\n",
    "o3d.io.write_triangle_mesh(\"copy_monkey.ply\", mesh)"
   ]
  },
  {
   "cell_type": "markdown",
   "metadata": {},
   "source": [
    "### Image"
   ]
  },
  {
   "cell_type": "code",
   "execution_count": 40,
   "metadata": {},
   "outputs": [
    {
     "name": "stdout",
     "output_type": "stream",
     "text": [
      "Testing IO for images ...\n",
      "Image of size 220x220, with 3 channels.\n",
      "Use numpy.asarray to access buffer data.\n"
     ]
    },
    {
     "data": {
      "text/plain": [
       "True"
      ]
     },
     "execution_count": 40,
     "metadata": {},
     "output_type": "execute_result"
    }
   ],
   "source": [
    "print(\"Testing IO for images ...\")\n",
    "img = o3d.io.read_image(\"../models/lenna.png\")\n",
    "print(img)\n",
    "# Save file\n",
    "# Supported formats: JPG, PNG\n",
    "o3d.io.write_image(\"copy_of_lena.jpg\", img)"
   ]
  },
  {
   "cell_type": "code",
   "execution_count": null,
   "metadata": {},
   "outputs": [],
   "source": []
  }
 ],
 "metadata": {
  "kernelspec": {
   "display_name": "Python 3",
   "language": "python",
   "name": "python3"
  },
  "language_info": {
   "codemirror_mode": {
    "name": "ipython",
    "version": 3
   },
   "file_extension": ".py",
   "mimetype": "text/x-python",
   "name": "python",
   "nbconvert_exporter": "python",
   "pygments_lexer": "ipython3",
   "version": "3.10.14"
  }
 },
 "nbformat": 4,
 "nbformat_minor": 2
}
